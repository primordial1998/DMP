{
 "cells": [
  {
   "cell_type": "code",
   "execution_count": 1,
   "id": "bc9bc6c5",
   "metadata": {
    "id": "bc9bc6c5",
    "tags": []
   },
   "outputs": [],
   "source": [
    "import pandas as pd\n",
    "import seaborn as sns\n",
    "import matplotlib.pyplot as plt\n",
    "import numpy as np\n",
    "from sklearn.manifold import TSNE\n",
    "from sklearn.cluster import KMeans\n",
    "from sklearn.model_selection import train_test_split\n",
    "from sklearn.metrics import accuracy_score\n",
    "from sklearn.metrics import confusion_matrix\n",
    "#precision_score\n",
    "from sklearn.metrics import precision_score\n",
    "#recall_score\n",
    "from sklearn.metrics import recall_score\n",
    "#f1_score\n",
    "from sklearn.metrics import f1_score\n",
    "#support\n",
    "from sklearn.metrics import classification_report"
   ]
  },
  {
   "cell_type": "code",
   "execution_count": 2,
   "id": "ac4b581f-2ccd-4802-93d9-27ec9699bf1c",
   "metadata": {
    "id": "ac4b581f-2ccd-4802-93d9-27ec9699bf1c",
    "tags": []
   },
   "outputs": [],
   "source": [
    "#data loading\n",
    "df=pd.read_csv(\"creditcard.csv\")"
   ]
  },
  {
   "cell_type": "code",
   "execution_count": 3,
   "id": "9776314d-68a5-425f-b802-3db4ba8cbda7",
   "metadata": {
    "id": "9776314d-68a5-425f-b802-3db4ba8cbda7",
    "outputId": "79cb5743-7064-4e0c-8aa8-8f5045199747",
    "tags": []
   },
   "outputs": [
    {
     "data": {
      "text/plain": [
       "0    284315\n",
       "1       492\n",
       "Name: Class, dtype: int64"
      ]
     },
     "execution_count": 3,
     "metadata": {},
     "output_type": "execute_result"
    }
   ],
   "source": [
    "df['Class'].value_counts()"
   ]
  },
  {
   "cell_type": "markdown",
   "id": "08961bfe-c3a4-4eae-bc42-7a59d4ac036f",
   "metadata": {
    "id": "08961bfe-c3a4-4eae-bc42-7a59d4ac036f"
   },
   "source": [
    "From the above output, this dataset is deeply imbalanced. In addition, with so many features, there are some hidden patterns that existing detection didn't capture. Therefore, it is necessary to relabel the dataset."
   ]
  },
  {
   "cell_type": "code",
   "execution_count": 4,
   "id": "18d040c5-f250-4333-a45d-73788269f77f",
   "metadata": {
    "id": "18d040c5-f250-4333-a45d-73788269f77f",
    "outputId": "9ddfe720-4995-4736-fc17-ec7a35a70ae7",
    "tags": []
   },
   "outputs": [
    {
     "data": {
      "text/plain": [
       "0              0.0\n",
       "1              0.0\n",
       "2              1.0\n",
       "3              1.0\n",
       "4              2.0\n",
       "            ...   \n",
       "284802    172786.0\n",
       "284803    172787.0\n",
       "284804    172788.0\n",
       "284805    172788.0\n",
       "284806    172792.0\n",
       "Name: Time, Length: 284807, dtype: float64"
      ]
     },
     "execution_count": 4,
     "metadata": {},
     "output_type": "execute_result"
    }
   ],
   "source": [
    "df['Time']"
   ]
  },
  {
   "cell_type": "code",
   "execution_count": 5,
   "id": "7b7744c6-e450-42bd-b209-4f3f54cded72",
   "metadata": {
    "id": "7b7744c6-e450-42bd-b209-4f3f54cded72",
    "tags": []
   },
   "outputs": [],
   "source": [
    "df[\"Time\"] = df[\"Time\"].apply(lambda x : x / 3600 % 24)"
   ]
  },
  {
   "cell_type": "code",
   "execution_count": 6,
   "id": "020dd78b-a891-4d54-ab3f-2432fb341854",
   "metadata": {
    "id": "020dd78b-a891-4d54-ab3f-2432fb341854",
    "tags": []
   },
   "outputs": [],
   "source": [
    "x=df.drop([\"Class\"],axis=1)\n",
    "y=df['Class']"
   ]
  },
  {
   "cell_type": "code",
   "execution_count": 7,
   "id": "c05cfb8d-6dcf-45e7-a671-f32b1150f44a",
   "metadata": {
    "id": "c05cfb8d-6dcf-45e7-a671-f32b1150f44a",
    "outputId": "a4ee7cfd-7c66-4699-ea95-d74a96f1017a",
    "tags": []
   },
   "outputs": [
    {
     "data": {
      "text/plain": [
       "0    284315\n",
       "1       492\n",
       "Name: Class, dtype: int64"
      ]
     },
     "execution_count": 7,
     "metadata": {},
     "output_type": "execute_result"
    }
   ],
   "source": [
    "df['Class'].value_counts()"
   ]
  },
  {
   "cell_type": "markdown",
   "id": "ea440366-3592-409f-8837-f1a573a53be2",
   "metadata": {
    "id": "ea440366-3592-409f-8837-f1a573a53be2"
   },
   "source": [
    "The above output is interest as it demonstrates that according to the existing data, there are so many transactions that should have been flagged"
   ]
  },
  {
   "cell_type": "markdown",
   "id": "92647421-95f8-43e4-89d0-b182f01170cf",
   "metadata": {
    "id": "92647421-95f8-43e4-89d0-b182f01170cf"
   },
   "source": [
    "After relabelling, using festure engineering to select relevant features is paramount"
   ]
  },
  {
   "cell_type": "markdown",
   "id": "fd521504-e38e-4b18-ba7e-081dc70dfda1",
   "metadata": {
    "id": "fd521504-e38e-4b18-ba7e-081dc70dfda1"
   },
   "source": [
    "### Correlation"
   ]
  },
  {
   "cell_type": "code",
   "execution_count": 8,
   "id": "df59b4d3-eb73-4e0a-982f-88ea8ecbb77b",
   "metadata": {
    "id": "df59b4d3-eb73-4e0a-982f-88ea8ecbb77b",
    "outputId": "bdbe1229-6cc2-46c2-8c26-b94768b3cf45",
    "tags": []
   },
   "outputs": [
    {
     "data": {
      "text/plain": [
       "<AxesSubplot:>"
      ]
     },
     "execution_count": 8,
     "metadata": {},
     "output_type": "execute_result"
    },
    {
     "data": {
      "image/png": "[encoded data removed]",
      "text/plain": [
       "<Figure size 648x432 with 2 Axes>"
      ]
     },
     "metadata": {
      "needs_background": "light"
     },
     "output_type": "display_data"
    }
   ],
   "source": [
    "x_corr = df.drop(['Class'], axis=1)\n",
    "corr = df.corr()\n",
    "plt.figure(figsize=(9,6))\n",
    "sns.heatmap(corr, cmap='RdBu', vmin=-1, vmax= 1)"
   ]
  },
  {
   "cell_type": "code",
   "execution_count": 9,
   "id": "dd441110-5182-4e26-835d-836745f1088c",
   "metadata": {
    "id": "dd441110-5182-4e26-835d-836745f1088c",
    "tags": []
   },
   "outputs": [],
   "source": [
    "correlation_matrix=df.corr()\n",
    "corr_feature_lst=abs(correlation_matrix.iloc[:,-1]).sort_values(ascending=False)"
   ]
  },
  {
   "cell_type": "code",
   "execution_count": 10,
   "id": "8c02e964-0075-4ce5-8306-50f69fc32021",
   "metadata": {
    "id": "8c02e964-0075-4ce5-8306-50f69fc32021",
    "outputId": "efa2a6f8-6a4e-4409-8865-2456f3be2c8e",
    "tags": []
   },
   "outputs": [
    {
     "data": {
      "text/plain": [
       "Class     1.000000\n",
       "V17       0.326481\n",
       "V14       0.302544\n",
       "V12       0.260593\n",
       "V10       0.216883\n",
       "V16       0.196539\n",
       "V3        0.192961\n",
       "V7        0.187257\n",
       "V11       0.154876\n",
       "V4        0.133447\n",
       "V18       0.111485\n",
       "V1        0.101347\n",
       "V9        0.097733\n",
       "V5        0.094974\n",
       "V2        0.091289\n",
       "V6        0.043643\n",
       "V21       0.040413\n",
       "V19       0.034783\n",
       "V20       0.020090\n",
       "V8        0.019875\n",
       "V27       0.017580\n",
       "Time      0.017082\n",
       "V28       0.009536\n",
       "V24       0.007221\n",
       "Amount    0.005632\n",
       "V13       0.004570\n",
       "V26       0.004455\n",
       "V15       0.004223\n",
       "V25       0.003308\n",
       "V23       0.002685\n",
       "V22       0.000805\n",
       "Name: Class, dtype: float64"
      ]
     },
     "execution_count": 10,
     "metadata": {},
     "output_type": "execute_result"
    }
   ],
   "source": [
    "corr_feature_lst"
   ]
  },
  {
   "cell_type": "code",
   "execution_count": 11,
   "id": "d3a70417-d773-4fab-9af9-5a16ad9c4470",
   "metadata": {
    "id": "d3a70417-d773-4fab-9af9-5a16ad9c4470",
    "tags": []
   },
   "outputs": [],
   "source": [
    "selected_10_features_from_corr=list(corr_feature_lst.index)[1:11]"
   ]
  },
  {
   "cell_type": "code",
   "execution_count": 12,
   "id": "85e7f52e-a90f-4f54-b59e-bc7cc238c23d",
   "metadata": {
    "id": "85e7f52e-a90f-4f54-b59e-bc7cc238c23d",
    "outputId": "49c035c0-bcd3-489e-bcb9-b4c0f39bdfa4",
    "tags": []
   },
   "outputs": [
    {
     "data": {
      "text/plain": [
       "['V17', 'V14', 'V12', 'V10', 'V16', 'V3', 'V7', 'V11', 'V4', 'V18']"
      ]
     },
     "execution_count": 12,
     "metadata": {},
     "output_type": "execute_result"
    }
   ],
   "source": [
    "selected_10_features_from_corr"
   ]
  },
  {
   "cell_type": "markdown",
   "id": "51b0ffea-dd0a-4f75-a34c-c51b09b06a21",
   "metadata": {
    "id": "51b0ffea-dd0a-4f75-a34c-c51b09b06a21"
   },
   "source": [
    "The above gives ranks on the importance of different features. However, correlation only indicates linear relationships."
   ]
  },
  {
   "cell_type": "code",
   "execution_count": 13,
   "id": "832d9366-cb67-46fc-8358-498d7cf856b5",
   "metadata": {
    "id": "832d9366-cb67-46fc-8358-498d7cf856b5",
    "tags": []
   },
   "outputs": [],
   "source": [
    "from sklearn.ensemble import RandomForestClassifier"
   ]
  },
  {
   "cell_type": "code",
   "execution_count": 14,
   "id": "787fb8b0-52ce-4213-940b-148de4937c16",
   "metadata": {
    "id": "787fb8b0-52ce-4213-940b-148de4937c16",
    "tags": []
   },
   "outputs": [],
   "source": [
    "ndf=df.copy()"
   ]
  },
  {
   "cell_type": "code",
   "execution_count": 15,
   "id": "47c27ebc-b799-42fb-a1f8-9736439385e6",
   "metadata": {
    "id": "47c27ebc-b799-42fb-a1f8-9736439385e6",
    "tags": []
   },
   "outputs": [],
   "source": [
    "x=ndf.drop(\"Class\",axis=1)\n",
    "y=ndf[\"Class\"]"
   ]
  },
  {
   "cell_type": "code",
   "execution_count": 17,
   "id": "48ac4776-af10-41c2-9129-6fbd507cb426",
   "metadata": {
    "id": "48ac4776-af10-41c2-9129-6fbd507cb426",
    "outputId": "e6288e30-2076-461f-aab3-cf9db121a20c",
    "tags": []
   },
   "outputs": [
    {
     "ename": "KeyboardInterrupt",
     "evalue": "",
     "output_type": "error",
     "traceback": [
      "\u001b[0;31m---------------------------------------------------------------------------\u001b[0m",
      "\u001b[0;31mKeyboardInterrupt\u001b[0m                         Traceback (most recent call last)",
      "Input \u001b[0;32mIn [17]\u001b[0m, in \u001b[0;36m<cell line: 3>\u001b[0;34m()\u001b[0m\n\u001b[1;32m      1\u001b[0m \u001b[38;5;28;01mfrom\u001b[39;00m \u001b[38;5;21;01mpandas\u001b[39;00m\u001b[38;5;21;01m.\u001b[39;00m\u001b[38;5;21;01mcore\u001b[39;00m\u001b[38;5;21;01m.\u001b[39;00m\u001b[38;5;21;01mcommon\u001b[39;00m \u001b[38;5;28;01mimport\u001b[39;00m random_state\n\u001b[1;32m      2\u001b[0m rf\u001b[38;5;241m=\u001b[39mRandomForestClassifier(random_state\u001b[38;5;241m=\u001b[39m\u001b[38;5;241m42\u001b[39m)\n\u001b[0;32m----> 3\u001b[0m \u001b[43mrf\u001b[49m\u001b[38;5;241;43m.\u001b[39;49m\u001b[43mfit\u001b[49m\u001b[43m(\u001b[49m\u001b[43mx\u001b[49m\u001b[43m,\u001b[49m\u001b[43my\u001b[49m\u001b[43m)\u001b[49m\n",
      "File \u001b[0;32m/opt/anaconda3/lib/python3.9/site-packages/sklearn/ensemble/_forest.py:450\u001b[0m, in \u001b[0;36mBaseForest.fit\u001b[0;34m(self, X, y, sample_weight)\u001b[0m\n\u001b[1;32m    439\u001b[0m trees \u001b[38;5;241m=\u001b[39m [\n\u001b[1;32m    440\u001b[0m     \u001b[38;5;28mself\u001b[39m\u001b[38;5;241m.\u001b[39m_make_estimator(append\u001b[38;5;241m=\u001b[39m\u001b[38;5;28;01mFalse\u001b[39;00m, random_state\u001b[38;5;241m=\u001b[39mrandom_state)\n\u001b[1;32m    441\u001b[0m     \u001b[38;5;28;01mfor\u001b[39;00m i \u001b[38;5;129;01min\u001b[39;00m \u001b[38;5;28mrange\u001b[39m(n_more_estimators)\n\u001b[1;32m    442\u001b[0m ]\n\u001b[1;32m    444\u001b[0m \u001b[38;5;66;03m# Parallel loop: we prefer the threading backend as the Cython code\u001b[39;00m\n\u001b[1;32m    445\u001b[0m \u001b[38;5;66;03m# for fitting the trees is internally releasing the Python GIL\u001b[39;00m\n\u001b[1;32m    446\u001b[0m \u001b[38;5;66;03m# making threading more efficient than multiprocessing in\u001b[39;00m\n\u001b[1;32m    447\u001b[0m \u001b[38;5;66;03m# that case. However, for joblib 0.12+ we respect any\u001b[39;00m\n\u001b[1;32m    448\u001b[0m \u001b[38;5;66;03m# parallel_backend contexts set at a higher level,\u001b[39;00m\n\u001b[1;32m    449\u001b[0m \u001b[38;5;66;03m# since correctness does not rely on using threads.\u001b[39;00m\n\u001b[0;32m--> 450\u001b[0m trees \u001b[38;5;241m=\u001b[39m \u001b[43mParallel\u001b[49m\u001b[43m(\u001b[49m\n\u001b[1;32m    451\u001b[0m \u001b[43m    \u001b[49m\u001b[43mn_jobs\u001b[49m\u001b[38;5;241;43m=\u001b[39;49m\u001b[38;5;28;43mself\u001b[39;49m\u001b[38;5;241;43m.\u001b[39;49m\u001b[43mn_jobs\u001b[49m\u001b[43m,\u001b[49m\n\u001b[1;32m    452\u001b[0m \u001b[43m    \u001b[49m\u001b[43mverbose\u001b[49m\u001b[38;5;241;43m=\u001b[39;49m\u001b[38;5;28;43mself\u001b[39;49m\u001b[38;5;241;43m.\u001b[39;49m\u001b[43mverbose\u001b[49m\u001b[43m,\u001b[49m\n\u001b[1;32m    453\u001b[0m \u001b[43m    \u001b[49m\u001b[38;5;241;43m*\u001b[39;49m\u001b[38;5;241;43m*\u001b[39;49m\u001b[43m_joblib_parallel_args\u001b[49m\u001b[43m(\u001b[49m\u001b[43mprefer\u001b[49m\u001b[38;5;241;43m=\u001b[39;49m\u001b[38;5;124;43m\"\u001b[39;49m\u001b[38;5;124;43mthreads\u001b[39;49m\u001b[38;5;124;43m\"\u001b[39;49m\u001b[43m)\u001b[49m\u001b[43m,\u001b[49m\n\u001b[1;32m    454\u001b[0m \u001b[43m\u001b[49m\u001b[43m)\u001b[49m\u001b[43m(\u001b[49m\n\u001b[1;32m    455\u001b[0m \u001b[43m    \u001b[49m\u001b[43mdelayed\u001b[49m\u001b[43m(\u001b[49m\u001b[43m_parallel_build_trees\u001b[49m\u001b[43m)\u001b[49m\u001b[43m(\u001b[49m\n\u001b[1;32m    456\u001b[0m \u001b[43m        \u001b[49m\u001b[43mt\u001b[49m\u001b[43m,\u001b[49m\n\u001b[1;32m    457\u001b[0m \u001b[43m        \u001b[49m\u001b[38;5;28;43mself\u001b[39;49m\u001b[43m,\u001b[49m\n\u001b[1;32m    458\u001b[0m \u001b[43m        \u001b[49m\u001b[43mX\u001b[49m\u001b[43m,\u001b[49m\n\u001b[1;32m    459\u001b[0m \u001b[43m        \u001b[49m\u001b[43my\u001b[49m\u001b[43m,\u001b[49m\n\u001b[1;32m    460\u001b[0m \u001b[43m        \u001b[49m\u001b[43msample_weight\u001b[49m\u001b[43m,\u001b[49m\n\u001b[1;32m    461\u001b[0m \u001b[43m        \u001b[49m\u001b[43mi\u001b[49m\u001b[43m,\u001b[49m\n\u001b[1;32m    462\u001b[0m \u001b[43m        \u001b[49m\u001b[38;5;28;43mlen\u001b[39;49m\u001b[43m(\u001b[49m\u001b[43mtrees\u001b[49m\u001b[43m)\u001b[49m\u001b[43m,\u001b[49m\n\u001b[1;32m    463\u001b[0m \u001b[43m        \u001b[49m\u001b[43mverbose\u001b[49m\u001b[38;5;241;43m=\u001b[39;49m\u001b[38;5;28;43mself\u001b[39;49m\u001b[38;5;241;43m.\u001b[39;49m\u001b[43mverbose\u001b[49m\u001b[43m,\u001b[49m\n\u001b[1;32m    464\u001b[0m \u001b[43m        \u001b[49m\u001b[43mclass_weight\u001b[49m\u001b[38;5;241;43m=\u001b[39;49m\u001b[38;5;28;43mself\u001b[39;49m\u001b[38;5;241;43m.\u001b[39;49m\u001b[43mclass_weight\u001b[49m\u001b[43m,\u001b[49m\n\u001b[1;32m    465\u001b[0m \u001b[43m        \u001b[49m\u001b[43mn_samples_bootstrap\u001b[49m\u001b[38;5;241;43m=\u001b[39;49m\u001b[43mn_samples_bootstrap\u001b[49m\u001b[43m,\u001b[49m\n\u001b[1;32m    466\u001b[0m \u001b[43m    \u001b[49m\u001b[43m)\u001b[49m\n\u001b[1;32m    467\u001b[0m \u001b[43m    \u001b[49m\u001b[38;5;28;43;01mfor\u001b[39;49;00m\u001b[43m \u001b[49m\u001b[43mi\u001b[49m\u001b[43m,\u001b[49m\u001b[43m \u001b[49m\u001b[43mt\u001b[49m\u001b[43m \u001b[49m\u001b[38;5;129;43;01min\u001b[39;49;00m\u001b[43m \u001b[49m\u001b[38;5;28;43menumerate\u001b[39;49m\u001b[43m(\u001b[49m\u001b[43mtrees\u001b[49m\u001b[43m)\u001b[49m\n\u001b[1;32m    468\u001b[0m \u001b[43m\u001b[49m\u001b[43m)\u001b[49m\n\u001b[1;32m    470\u001b[0m \u001b[38;5;66;03m# Collect newly grown trees\u001b[39;00m\n\u001b[1;32m    471\u001b[0m \u001b[38;5;28mself\u001b[39m\u001b[38;5;241m.\u001b[39mestimators_\u001b[38;5;241m.\u001b[39mextend(trees)\n",
      "File \u001b[0;32m/opt/anaconda3/lib/python3.9/site-packages/joblib/parallel.py:1088\u001b[0m, in \u001b[0;36mParallel.__call__\u001b[0;34m(self, iterable)\u001b[0m\n\u001b[1;32m   1085\u001b[0m \u001b[38;5;28;01mif\u001b[39;00m \u001b[38;5;28mself\u001b[39m\u001b[38;5;241m.\u001b[39mdispatch_one_batch(iterator):\n\u001b[1;32m   1086\u001b[0m     \u001b[38;5;28mself\u001b[39m\u001b[38;5;241m.\u001b[39m_iterating \u001b[38;5;241m=\u001b[39m \u001b[38;5;28mself\u001b[39m\u001b[38;5;241m.\u001b[39m_original_iterator \u001b[38;5;129;01mis\u001b[39;00m \u001b[38;5;129;01mnot\u001b[39;00m \u001b[38;5;28;01mNone\u001b[39;00m\n\u001b[0;32m-> 1088\u001b[0m \u001b[38;5;28;01mwhile\u001b[39;00m \u001b[38;5;28;43mself\u001b[39;49m\u001b[38;5;241;43m.\u001b[39;49m\u001b[43mdispatch_one_batch\u001b[49m\u001b[43m(\u001b[49m\u001b[43miterator\u001b[49m\u001b[43m)\u001b[49m:\n\u001b[1;32m   1089\u001b[0m     \u001b[38;5;28;01mpass\u001b[39;00m\n\u001b[1;32m   1091\u001b[0m \u001b[38;5;28;01mif\u001b[39;00m pre_dispatch \u001b[38;5;241m==\u001b[39m \u001b[38;5;124m\"\u001b[39m\u001b[38;5;124mall\u001b[39m\u001b[38;5;124m\"\u001b[39m \u001b[38;5;129;01mor\u001b[39;00m n_jobs \u001b[38;5;241m==\u001b[39m \u001b[38;5;241m1\u001b[39m:\n\u001b[1;32m   1092\u001b[0m     \u001b[38;5;66;03m# The iterable was consumed all at once by the above for loop.\u001b[39;00m\n\u001b[1;32m   1093\u001b[0m     \u001b[38;5;66;03m# No need to wait for async callbacks to trigger to\u001b[39;00m\n\u001b[1;32m   1094\u001b[0m     \u001b[38;5;66;03m# consumption.\u001b[39;00m\n",
      "File \u001b[0;32m/opt/anaconda3/lib/python3.9/site-packages/joblib/parallel.py:901\u001b[0m, in \u001b[0;36mParallel.dispatch_one_batch\u001b[0;34m(self, iterator)\u001b[0m\n\u001b[1;32m    899\u001b[0m     \u001b[38;5;28;01mreturn\u001b[39;00m \u001b[38;5;28;01mFalse\u001b[39;00m\n\u001b[1;32m    900\u001b[0m \u001b[38;5;28;01melse\u001b[39;00m:\n\u001b[0;32m--> 901\u001b[0m     \u001b[38;5;28;43mself\u001b[39;49m\u001b[38;5;241;43m.\u001b[39;49m\u001b[43m_dispatch\u001b[49m\u001b[43m(\u001b[49m\u001b[43mtasks\u001b[49m\u001b[43m)\u001b[49m\n\u001b[1;32m    902\u001b[0m     \u001b[38;5;28;01mreturn\u001b[39;00m \u001b[38;5;28;01mTrue\u001b[39;00m\n",
      "File \u001b[0;32m/opt/anaconda3/lib/python3.9/site-packages/joblib/parallel.py:819\u001b[0m, in \u001b[0;36mParallel._dispatch\u001b[0;34m(self, batch)\u001b[0m\n\u001b[1;32m    817\u001b[0m \u001b[38;5;28;01mwith\u001b[39;00m \u001b[38;5;28mself\u001b[39m\u001b[38;5;241m.\u001b[39m_lock:\n\u001b[1;32m    818\u001b[0m     job_idx \u001b[38;5;241m=\u001b[39m \u001b[38;5;28mlen\u001b[39m(\u001b[38;5;28mself\u001b[39m\u001b[38;5;241m.\u001b[39m_jobs)\n\u001b[0;32m--> 819\u001b[0m     job \u001b[38;5;241m=\u001b[39m \u001b[38;5;28;43mself\u001b[39;49m\u001b[38;5;241;43m.\u001b[39;49m\u001b[43m_backend\u001b[49m\u001b[38;5;241;43m.\u001b[39;49m\u001b[43mapply_async\u001b[49m\u001b[43m(\u001b[49m\u001b[43mbatch\u001b[49m\u001b[43m,\u001b[49m\u001b[43m \u001b[49m\u001b[43mcallback\u001b[49m\u001b[38;5;241;43m=\u001b[39;49m\u001b[43mcb\u001b[49m\u001b[43m)\u001b[49m\n\u001b[1;32m    820\u001b[0m     \u001b[38;5;66;03m# A job can complete so quickly than its callback is\u001b[39;00m\n\u001b[1;32m    821\u001b[0m     \u001b[38;5;66;03m# called before we get here, causing self._jobs to\u001b[39;00m\n\u001b[1;32m    822\u001b[0m     \u001b[38;5;66;03m# grow. To ensure correct results ordering, .insert is\u001b[39;00m\n\u001b[1;32m    823\u001b[0m     \u001b[38;5;66;03m# used (rather than .append) in the following line\u001b[39;00m\n\u001b[1;32m    824\u001b[0m     \u001b[38;5;28mself\u001b[39m\u001b[38;5;241m.\u001b[39m_jobs\u001b[38;5;241m.\u001b[39minsert(job_idx, job)\n",
      "File \u001b[0;32m/opt/anaconda3/lib/python3.9/site-packages/joblib/_parallel_backends.py:208\u001b[0m, in \u001b[0;36mSequentialBackend.apply_async\u001b[0;34m(self, func, callback)\u001b[0m\n\u001b[1;32m    206\u001b[0m \u001b[38;5;28;01mdef\u001b[39;00m \u001b[38;5;21mapply_async\u001b[39m(\u001b[38;5;28mself\u001b[39m, func, callback\u001b[38;5;241m=\u001b[39m\u001b[38;5;28;01mNone\u001b[39;00m):\n\u001b[1;32m    207\u001b[0m     \u001b[38;5;124;03m\"\"\"Schedule a func to be run\"\"\"\u001b[39;00m\n\u001b[0;32m--> 208\u001b[0m     result \u001b[38;5;241m=\u001b[39m \u001b[43mImmediateResult\u001b[49m\u001b[43m(\u001b[49m\u001b[43mfunc\u001b[49m\u001b[43m)\u001b[49m\n\u001b[1;32m    209\u001b[0m     \u001b[38;5;28;01mif\u001b[39;00m callback:\n\u001b[1;32m    210\u001b[0m         callback(result)\n",
      "File \u001b[0;32m/opt/anaconda3/lib/python3.9/site-packages/joblib/_parallel_backends.py:597\u001b[0m, in \u001b[0;36mImmediateResult.__init__\u001b[0;34m(self, batch)\u001b[0m\n\u001b[1;32m    594\u001b[0m \u001b[38;5;28;01mdef\u001b[39;00m \u001b[38;5;21m__init__\u001b[39m(\u001b[38;5;28mself\u001b[39m, batch):\n\u001b[1;32m    595\u001b[0m     \u001b[38;5;66;03m# Don't delay the application, to avoid keeping the input\u001b[39;00m\n\u001b[1;32m    596\u001b[0m     \u001b[38;5;66;03m# arguments in memory\u001b[39;00m\n\u001b[0;32m--> 597\u001b[0m     \u001b[38;5;28mself\u001b[39m\u001b[38;5;241m.\u001b[39mresults \u001b[38;5;241m=\u001b[39m \u001b[43mbatch\u001b[49m\u001b[43m(\u001b[49m\u001b[43m)\u001b[49m\n",
      "File \u001b[0;32m/opt/anaconda3/lib/python3.9/site-packages/joblib/parallel.py:288\u001b[0m, in \u001b[0;36mBatchedCalls.__call__\u001b[0;34m(self)\u001b[0m\n\u001b[1;32m    284\u001b[0m \u001b[38;5;28;01mdef\u001b[39;00m \u001b[38;5;21m__call__\u001b[39m(\u001b[38;5;28mself\u001b[39m):\n\u001b[1;32m    285\u001b[0m     \u001b[38;5;66;03m# Set the default nested backend to self._backend but do not set the\u001b[39;00m\n\u001b[1;32m    286\u001b[0m     \u001b[38;5;66;03m# change the default number of processes to -1\u001b[39;00m\n\u001b[1;32m    287\u001b[0m     \u001b[38;5;28;01mwith\u001b[39;00m parallel_backend(\u001b[38;5;28mself\u001b[39m\u001b[38;5;241m.\u001b[39m_backend, n_jobs\u001b[38;5;241m=\u001b[39m\u001b[38;5;28mself\u001b[39m\u001b[38;5;241m.\u001b[39m_n_jobs):\n\u001b[0;32m--> 288\u001b[0m         \u001b[38;5;28;01mreturn\u001b[39;00m [func(\u001b[38;5;241m*\u001b[39margs, \u001b[38;5;241m*\u001b[39m\u001b[38;5;241m*\u001b[39mkwargs)\n\u001b[1;32m    289\u001b[0m                 \u001b[38;5;28;01mfor\u001b[39;00m func, args, kwargs \u001b[38;5;129;01min\u001b[39;00m \u001b[38;5;28mself\u001b[39m\u001b[38;5;241m.\u001b[39mitems]\n",
      "File \u001b[0;32m/opt/anaconda3/lib/python3.9/site-packages/joblib/parallel.py:288\u001b[0m, in \u001b[0;36m<listcomp>\u001b[0;34m(.0)\u001b[0m\n\u001b[1;32m    284\u001b[0m \u001b[38;5;28;01mdef\u001b[39;00m \u001b[38;5;21m__call__\u001b[39m(\u001b[38;5;28mself\u001b[39m):\n\u001b[1;32m    285\u001b[0m     \u001b[38;5;66;03m# Set the default nested backend to self._backend but do not set the\u001b[39;00m\n\u001b[1;32m    286\u001b[0m     \u001b[38;5;66;03m# change the default number of processes to -1\u001b[39;00m\n\u001b[1;32m    287\u001b[0m     \u001b[38;5;28;01mwith\u001b[39;00m parallel_backend(\u001b[38;5;28mself\u001b[39m\u001b[38;5;241m.\u001b[39m_backend, n_jobs\u001b[38;5;241m=\u001b[39m\u001b[38;5;28mself\u001b[39m\u001b[38;5;241m.\u001b[39m_n_jobs):\n\u001b[0;32m--> 288\u001b[0m         \u001b[38;5;28;01mreturn\u001b[39;00m [\u001b[43mfunc\u001b[49m\u001b[43m(\u001b[49m\u001b[38;5;241;43m*\u001b[39;49m\u001b[43margs\u001b[49m\u001b[43m,\u001b[49m\u001b[43m \u001b[49m\u001b[38;5;241;43m*\u001b[39;49m\u001b[38;5;241;43m*\u001b[39;49m\u001b[43mkwargs\u001b[49m\u001b[43m)\u001b[49m\n\u001b[1;32m    289\u001b[0m                 \u001b[38;5;28;01mfor\u001b[39;00m func, args, kwargs \u001b[38;5;129;01min\u001b[39;00m \u001b[38;5;28mself\u001b[39m\u001b[38;5;241m.\u001b[39mitems]\n",
      "File \u001b[0;32m/opt/anaconda3/lib/python3.9/site-packages/sklearn/utils/fixes.py:216\u001b[0m, in \u001b[0;36m_FuncWrapper.__call__\u001b[0;34m(self, *args, **kwargs)\u001b[0m\n\u001b[1;32m    214\u001b[0m \u001b[38;5;28;01mdef\u001b[39;00m \u001b[38;5;21m__call__\u001b[39m(\u001b[38;5;28mself\u001b[39m, \u001b[38;5;241m*\u001b[39margs, \u001b[38;5;241m*\u001b[39m\u001b[38;5;241m*\u001b[39mkwargs):\n\u001b[1;32m    215\u001b[0m     \u001b[38;5;28;01mwith\u001b[39;00m config_context(\u001b[38;5;241m*\u001b[39m\u001b[38;5;241m*\u001b[39m\u001b[38;5;28mself\u001b[39m\u001b[38;5;241m.\u001b[39mconfig):\n\u001b[0;32m--> 216\u001b[0m         \u001b[38;5;28;01mreturn\u001b[39;00m \u001b[38;5;28;43mself\u001b[39;49m\u001b[38;5;241;43m.\u001b[39;49m\u001b[43mfunction\u001b[49m\u001b[43m(\u001b[49m\u001b[38;5;241;43m*\u001b[39;49m\u001b[43margs\u001b[49m\u001b[43m,\u001b[49m\u001b[43m \u001b[49m\u001b[38;5;241;43m*\u001b[39;49m\u001b[38;5;241;43m*\u001b[39;49m\u001b[43mkwargs\u001b[49m\u001b[43m)\u001b[49m\n",
      "File \u001b[0;32m/opt/anaconda3/lib/python3.9/site-packages/sklearn/ensemble/_forest.py:185\u001b[0m, in \u001b[0;36m_parallel_build_trees\u001b[0;34m(tree, forest, X, y, sample_weight, tree_idx, n_trees, verbose, class_weight, n_samples_bootstrap)\u001b[0m\n\u001b[1;32m    182\u001b[0m     \u001b[38;5;28;01melif\u001b[39;00m class_weight \u001b[38;5;241m==\u001b[39m \u001b[38;5;124m\"\u001b[39m\u001b[38;5;124mbalanced_subsample\u001b[39m\u001b[38;5;124m\"\u001b[39m:\n\u001b[1;32m    183\u001b[0m         curr_sample_weight \u001b[38;5;241m*\u001b[39m\u001b[38;5;241m=\u001b[39m compute_sample_weight(\u001b[38;5;124m\"\u001b[39m\u001b[38;5;124mbalanced\u001b[39m\u001b[38;5;124m\"\u001b[39m, y, indices\u001b[38;5;241m=\u001b[39mindices)\n\u001b[0;32m--> 185\u001b[0m     \u001b[43mtree\u001b[49m\u001b[38;5;241;43m.\u001b[39;49m\u001b[43mfit\u001b[49m\u001b[43m(\u001b[49m\u001b[43mX\u001b[49m\u001b[43m,\u001b[49m\u001b[43m \u001b[49m\u001b[43my\u001b[49m\u001b[43m,\u001b[49m\u001b[43m \u001b[49m\u001b[43msample_weight\u001b[49m\u001b[38;5;241;43m=\u001b[39;49m\u001b[43mcurr_sample_weight\u001b[49m\u001b[43m,\u001b[49m\u001b[43m \u001b[49m\u001b[43mcheck_input\u001b[49m\u001b[38;5;241;43m=\u001b[39;49m\u001b[38;5;28;43;01mFalse\u001b[39;49;00m\u001b[43m)\u001b[49m\n\u001b[1;32m    186\u001b[0m \u001b[38;5;28;01melse\u001b[39;00m:\n\u001b[1;32m    187\u001b[0m     tree\u001b[38;5;241m.\u001b[39mfit(X, y, sample_weight\u001b[38;5;241m=\u001b[39msample_weight, check_input\u001b[38;5;241m=\u001b[39m\u001b[38;5;28;01mFalse\u001b[39;00m)\n",
      "File \u001b[0;32m/opt/anaconda3/lib/python3.9/site-packages/sklearn/tree/_classes.py:937\u001b[0m, in \u001b[0;36mDecisionTreeClassifier.fit\u001b[0;34m(self, X, y, sample_weight, check_input, X_idx_sorted)\u001b[0m\n\u001b[1;32m    899\u001b[0m \u001b[38;5;28;01mdef\u001b[39;00m \u001b[38;5;21mfit\u001b[39m(\n\u001b[1;32m    900\u001b[0m     \u001b[38;5;28mself\u001b[39m, X, y, sample_weight\u001b[38;5;241m=\u001b[39m\u001b[38;5;28;01mNone\u001b[39;00m, check_input\u001b[38;5;241m=\u001b[39m\u001b[38;5;28;01mTrue\u001b[39;00m, X_idx_sorted\u001b[38;5;241m=\u001b[39m\u001b[38;5;124m\"\u001b[39m\u001b[38;5;124mdeprecated\u001b[39m\u001b[38;5;124m\"\u001b[39m\n\u001b[1;32m    901\u001b[0m ):\n\u001b[1;32m    902\u001b[0m     \u001b[38;5;124;03m\"\"\"Build a decision tree classifier from the training set (X, y).\u001b[39;00m\n\u001b[1;32m    903\u001b[0m \n\u001b[1;32m    904\u001b[0m \u001b[38;5;124;03m    Parameters\u001b[39;00m\n\u001b[0;32m   (...)\u001b[0m\n\u001b[1;32m    934\u001b[0m \u001b[38;5;124;03m        Fitted estimator.\u001b[39;00m\n\u001b[1;32m    935\u001b[0m \u001b[38;5;124;03m    \"\"\"\u001b[39;00m\n\u001b[0;32m--> 937\u001b[0m     \u001b[38;5;28;43msuper\u001b[39;49m\u001b[43m(\u001b[49m\u001b[43m)\u001b[49m\u001b[38;5;241;43m.\u001b[39;49m\u001b[43mfit\u001b[49m\u001b[43m(\u001b[49m\n\u001b[1;32m    938\u001b[0m \u001b[43m        \u001b[49m\u001b[43mX\u001b[49m\u001b[43m,\u001b[49m\n\u001b[1;32m    939\u001b[0m \u001b[43m        \u001b[49m\u001b[43my\u001b[49m\u001b[43m,\u001b[49m\n\u001b[1;32m    940\u001b[0m \u001b[43m        \u001b[49m\u001b[43msample_weight\u001b[49m\u001b[38;5;241;43m=\u001b[39;49m\u001b[43msample_weight\u001b[49m\u001b[43m,\u001b[49m\n\u001b[1;32m    941\u001b[0m \u001b[43m        \u001b[49m\u001b[43mcheck_input\u001b[49m\u001b[38;5;241;43m=\u001b[39;49m\u001b[43mcheck_input\u001b[49m\u001b[43m,\u001b[49m\n\u001b[1;32m    942\u001b[0m \u001b[43m        \u001b[49m\u001b[43mX_idx_sorted\u001b[49m\u001b[38;5;241;43m=\u001b[39;49m\u001b[43mX_idx_sorted\u001b[49m\u001b[43m,\u001b[49m\n\u001b[1;32m    943\u001b[0m \u001b[43m    \u001b[49m\u001b[43m)\u001b[49m\n\u001b[1;32m    944\u001b[0m     \u001b[38;5;28;01mreturn\u001b[39;00m \u001b[38;5;28mself\u001b[39m\n",
      "File \u001b[0;32m/opt/anaconda3/lib/python3.9/site-packages/sklearn/tree/_classes.py:420\u001b[0m, in \u001b[0;36mBaseDecisionTree.fit\u001b[0;34m(self, X, y, sample_weight, check_input, X_idx_sorted)\u001b[0m\n\u001b[1;32m    409\u001b[0m \u001b[38;5;28;01melse\u001b[39;00m:\n\u001b[1;32m    410\u001b[0m     builder \u001b[38;5;241m=\u001b[39m BestFirstTreeBuilder(\n\u001b[1;32m    411\u001b[0m         splitter,\n\u001b[1;32m    412\u001b[0m         min_samples_split,\n\u001b[0;32m   (...)\u001b[0m\n\u001b[1;32m    417\u001b[0m         \u001b[38;5;28mself\u001b[39m\u001b[38;5;241m.\u001b[39mmin_impurity_decrease,\n\u001b[1;32m    418\u001b[0m     )\n\u001b[0;32m--> 420\u001b[0m \u001b[43mbuilder\u001b[49m\u001b[38;5;241;43m.\u001b[39;49m\u001b[43mbuild\u001b[49m\u001b[43m(\u001b[49m\u001b[38;5;28;43mself\u001b[39;49m\u001b[38;5;241;43m.\u001b[39;49m\u001b[43mtree_\u001b[49m\u001b[43m,\u001b[49m\u001b[43m \u001b[49m\u001b[43mX\u001b[49m\u001b[43m,\u001b[49m\u001b[43m \u001b[49m\u001b[43my\u001b[49m\u001b[43m,\u001b[49m\u001b[43m \u001b[49m\u001b[43msample_weight\u001b[49m\u001b[43m)\u001b[49m\n\u001b[1;32m    422\u001b[0m \u001b[38;5;28;01mif\u001b[39;00m \u001b[38;5;28mself\u001b[39m\u001b[38;5;241m.\u001b[39mn_outputs_ \u001b[38;5;241m==\u001b[39m \u001b[38;5;241m1\u001b[39m \u001b[38;5;129;01mand\u001b[39;00m is_classifier(\u001b[38;5;28mself\u001b[39m):\n\u001b[1;32m    423\u001b[0m     \u001b[38;5;28mself\u001b[39m\u001b[38;5;241m.\u001b[39mn_classes_ \u001b[38;5;241m=\u001b[39m \u001b[38;5;28mself\u001b[39m\u001b[38;5;241m.\u001b[39mn_classes_[\u001b[38;5;241m0\u001b[39m]\n",
      "\u001b[0;31mKeyboardInterrupt\u001b[0m: "
     ]
    }
   ],
   "source": [
    "from pandas.core.common import random_state\n",
    "rf=RandomForestClassifier(random_state=42)\n",
    "rf.fit(x,y)"
   ]
  },
  {
   "cell_type": "code",
   "execution_count": null,
   "id": "5a6c9c72-1632-4d55-9e5f-1ecae5c53e38",
   "metadata": {
    "id": "5a6c9c72-1632-4d55-9e5f-1ecae5c53e38",
    "outputId": "0e4688b2-e70e-47c6-919c-b861d742cb8c",
    "tags": []
   },
   "outputs": [],
   "source": [
    "features = x.columns\n",
    "importances = rf.feature_importances_\n",
    "indices = np.argsort(importances)\n",
    "\n",
    "plt.title('Feature Importances')\n",
    "plt.barh(range(len(indices)), importances[indices], color='b', align='center')\n",
    "plt.yticks(range(len(indices)), [features[i] for i in indices])\n",
    "plt.xlabel('Relative Importance')\n",
    "plt.show()"
   ]
  },
  {
   "cell_type": "code",
   "execution_count": null,
   "id": "eeb8b25e-c2ae-4da1-9b11-b53bd42ad373",
   "metadata": {
    "id": "eeb8b25e-c2ae-4da1-9b11-b53bd42ad373",
    "outputId": "00e91dec-64e6-48d8-e771-fe3404f84aac",
    "tags": []
   },
   "outputs": [],
   "source": [
    "importances"
   ]
  },
  {
   "cell_type": "code",
   "execution_count": null,
   "id": "7c2a40a3-2fb2-4064-a051-712a7510be2a",
   "metadata": {
    "id": "7c2a40a3-2fb2-4064-a051-712a7510be2a",
    "tags": []
   },
   "outputs": [],
   "source": [
    "#select top 10 performed features as the features below tend to perform worse\n",
    "selected_features_rf=x.columns[importances.argsort()[::-1][:10]].tolist()"
   ]
  },
  {
   "cell_type": "code",
   "execution_count": null,
   "id": "0cf96807-4fcb-461a-a109-982f3be4cdb9",
   "metadata": {
    "id": "0cf96807-4fcb-461a-a109-982f3be4cdb9",
    "outputId": "87ef62bb-8fc9-49a7-fc21-25b5db5cf8b7",
    "tags": []
   },
   "outputs": [],
   "source": [
    "selected_features_rf"
   ]
  },
  {
   "cell_type": "markdown",
   "id": "1ff6c6fd-159b-4cd9-acf8-d798d30e61dc",
   "metadata": {
    "id": "1ff6c6fd-159b-4cd9-acf8-d798d30e61dc"
   },
   "source": [
    "Generally, the features revealed from Random Forest are more convincing as it takes linear and nonlinear relationship into consideration"
   ]
  },
  {
   "cell_type": "markdown",
   "id": "8a94a413-165e-42b1-9bed-3e10b30cd114",
   "metadata": {
    "id": "8a94a413-165e-42b1-9bed-3e10b30cd114"
   },
   "source": [
    "### Train Model"
   ]
  },
  {
   "cell_type": "code",
   "execution_count": 18,
   "id": "695beddd",
   "metadata": {
    "id": "695beddd",
    "tags": []
   },
   "outputs": [],
   "source": [
    "from sklearn.model_selection import train_test_split\n",
    "from sklearn.tree import DecisionTreeClassifier\n",
    "from sklearn.ensemble import RandomForestClassifier\n",
    "from sklearn.linear_model import LogisticRegression\n",
    "from xgboost import XGBClassifier\n",
    "from sklearn.metrics import accuracy_score, confusion_matrix, classification_report\n",
    "from sklearn.model_selection import cross_val_score\n",
    "from sklearn.utils.class_weight import compute_class_weight\n",
    "#xgboost\n",
    "from xgboost import XGBClassifier"
   ]
  },
  {
   "cell_type": "markdown",
   "id": "55ac140f",
   "metadata": {
    "id": "55ac140f"
   },
   "source": [
    "For loop"
   ]
  },
  {
   "cell_type": "code",
   "execution_count": 19,
   "id": "7140cf2b",
   "metadata": {
    "tags": []
   },
   "outputs": [],
   "source": [
    "from sklearn.model_selection import train_test_split"
   ]
  },
  {
   "cell_type": "code",
   "execution_count": 20,
   "id": "6566637e",
   "metadata": {
    "id": "6566637e",
    "tags": []
   },
   "outputs": [],
   "source": [
    "df_nonF = df[df['Class'] == 0]\n",
    "df_F = df[df['Class'] == 1]"
   ]
  },
  {
   "cell_type": "code",
   "execution_count": 21,
   "id": "1cd57ae6-f42a-4e64-8a5c-0889c80dc92f",
   "metadata": {
    "tags": []
   },
   "outputs": [],
   "source": [
    "from sklearn.linear_model import LogisticRegression"
   ]
  },
  {
   "cell_type": "markdown",
   "id": "5fd8bf5e",
   "metadata": {
    "id": "5fd8bf5e"
   },
   "source": [
    "Logistic Regression"
   ]
  },
  {
   "cell_type": "code",
   "execution_count": 76,
   "id": "728309d7-bd3f-4970-ac5a-134c9ace9387",
   "metadata": {
    "id": "728309d7-bd3f-4970-ac5a-134c9ace9387",
    "tags": []
   },
   "outputs": [],
   "source": [
    "acc_lgr = []\n",
    "precision_lgr = []\n",
    "recall_lgr = []\n",
    "f1_lgr = []\n",
    "for i in range(100):\n",
    "    df_sample = df_nonF.sample(n=492)\n",
    "    df_input = pd.concat([df_sample, df_F])\n",
    "    X = df_input.drop(['Class'], axis=1)\n",
    "    y = df_input['Class']\n",
    "    x_train, x_test, y_train, y_test = train_test_split(X, y, test_size = 0.3)\n",
    "    lgr = LogisticRegression(solver='liblinear')\n",
    "    lgr.fit(x_train, y_train)\n",
    "    y_pred = lgr.predict(x_test)\n",
    "    acc_lgr.append(accuracy_score(y_test, y_pred))\n",
    "    precision_lgr.append(precision_score(y_test, y_pred))\n",
    "    recall_lgr.append(recall_score(y_test, y_pred))\n",
    "    f1_lgr.append(f1_score(y_test, y_pred))"
   ]
  },
  {
   "cell_type": "code",
   "execution_count": 77,
   "id": "2e93ed45",
   "metadata": {},
   "outputs": [],
   "source": [
    "acc_lgr1 = []\n",
    "precision_lgr1 = []\n",
    "recall_lgr1 = []\n",
    "f1_lgr1 = []\n",
    "\n",
    "for i in range(100):\n",
    "    df_sample = df_nonF.sample(n=250)\n",
    "    df_input = pd.concat([df_sample, df_F])\n",
    "    X = df_input.drop(['Class'], axis=1)\n",
    "    y = df_input['Class']\n",
    "    x_train, x_test, y_train, y_test = train_test_split(X, y, test_size = 0.3)\n",
    "    rf = RandomForestClassifier(random_state=42)\n",
    "    rf.fit(x_train, y_train)\n",
    "    y_pred = rf.predict(x_test)\n",
    "    acc_lgr1.append(accuracy_score(y_test, y_pred))\n",
    "    precision_lgr1.append(precision_score(y_test, y_pred))\n",
    "    recall_lgr1.append(recall_score(y_test, y_pred))\n",
    "    f1_lgr1.append(f1_score(y_test, y_pred))"
   ]
  },
  {
   "cell_type": "code",
   "execution_count": 78,
   "id": "b13653f1",
   "metadata": {},
   "outputs": [],
   "source": [
    "acc_lgr2 = []\n",
    "precision_lgr2 = []\n",
    "recall_lgr2 = []\n",
    "f1_lgr2 = []\n",
    "\n",
    "for i in range(100):\n",
    "    df_sample = df_nonF.sample(n=1000)\n",
    "    df_input = pd.concat([df_sample, df_F])\n",
    "    X = df_input.drop(['Class'], axis=1)\n",
    "    y = df_input['Class']\n",
    "    x_train, x_test, y_train, y_test = train_test_split(X, y, test_size = 0.3)\n",
    "    rf = RandomForestClassifier(random_state=42)\n",
    "    rf.fit(x_train, y_train)\n",
    "    y_pred = rf.predict(x_test)\n",
    "    acc_lgr2.append(accuracy_score(y_test, y_pred))\n",
    "    precision_lgr2.append(precision_score(y_test, y_pred))\n",
    "    recall_lgr2.append(recall_score(y_test, y_pred))\n",
    "    f1_lgr2.append(f1_score(y_test, y_pred))"
   ]
  },
  {
   "cell_type": "markdown",
   "id": "006e4f39",
   "metadata": {
    "id": "006e4f39"
   },
   "source": [
    "Random Forest"
   ]
  },
  {
   "cell_type": "code",
   "execution_count": 79,
   "id": "79ad1c96",
   "metadata": {
    "id": "79ad1c96",
    "tags": []
   },
   "outputs": [],
   "source": [
    "acc_rf = []\n",
    "precision_rf = []\n",
    "recall_rf = []\n",
    "f1_rf = []\n",
    "\n",
    "for i in range(100):\n",
    "    df_sample = df_nonF.sample(n=492)\n",
    "    df_input = pd.concat([df_sample, df_F])\n",
    "    X = df_input.drop(['Class'], axis=1)\n",
    "    y = df_input['Class']\n",
    "    x_train, x_test, y_train, y_test = train_test_split(X, y, test_size = 0.3)\n",
    "    rf = RandomForestClassifier(random_state=42)\n",
    "    rf.fit(x_train, y_train)\n",
    "    y_pred = rf.predict(x_test)\n",
    "    acc_rf.append(accuracy_score(y_test, y_pred))\n",
    "    precision_rf.append(precision_score(y_test, y_pred))\n",
    "    recall_rf.append(recall_score(y_test, y_pred))\n",
    "    f1_rf.append(f1_score(y_test, y_pred))"
   ]
  },
  {
   "cell_type": "code",
   "execution_count": 80,
   "id": "a6e4d1db",
   "metadata": {},
   "outputs": [],
   "source": [
    "acc_rf1 = []\n",
    "precision_rf1 = []\n",
    "recall_rf1 = []\n",
    "f1_rf1 = []\n",
    "\n",
    "for i in range(100):\n",
    "    df_sample = df_nonF.sample(n=250)\n",
    "    df_input = pd.concat([df_sample, df_F])\n",
    "    X = df_input.drop(['Class'], axis=1)\n",
    "    y = df_input['Class']\n",
    "    x_train, x_test, y_train, y_test = train_test_split(X, y, test_size = 0.3)\n",
    "    rf = RandomForestClassifier(random_state=42)\n",
    "    rf.fit(x_train, y_train)\n",
    "    y_pred = rf.predict(x_test)\n",
    "    acc_rf1.append(accuracy_score(y_test, y_pred))\n",
    "    precision_rf1.append(precision_score(y_test, y_pred))\n",
    "    recall_rf1.append(recall_score(y_test, y_pred))\n",
    "    f1_rf1.append(f1_score(y_test, y_pred))"
   ]
  },
  {
   "cell_type": "code",
   "execution_count": 81,
   "id": "a867038b",
   "metadata": {},
   "outputs": [],
   "source": [
    "acc_rf2 = []\n",
    "precision_rf2 = []\n",
    "recall_rf2 = []\n",
    "f1_rf2 = []\n",
    "\n",
    "for i in range(100):\n",
    "    df_sample = df_nonF.sample(n=1000)\n",
    "    df_input = pd.concat([df_sample, df_F])\n",
    "    X = df_input.drop(['Class'], axis=1)\n",
    "    y = df_input['Class']\n",
    "    x_train, x_test, y_train, y_test = train_test_split(X, y, test_size = 0.3)\n",
    "    rf = RandomForestClassifier(random_state=42)\n",
    "    rf.fit(x_train, y_train)\n",
    "    y_pred = rf.predict(x_test)\n",
    "    acc_rf2.append(accuracy_score(y_test, y_pred))\n",
    "    precision_rf2.append(precision_score(y_test, y_pred))\n",
    "    recall_rf2.append(recall_score(y_test, y_pred))\n",
    "    f1_rf2.append(f1_score(y_test, y_pred))"
   ]
  },
  {
   "cell_type": "markdown",
   "id": "5784bc0a",
   "metadata": {
    "id": "5784bc0a"
   },
   "source": [
    "Xgboost"
   ]
  },
  {
   "cell_type": "code",
   "execution_count": 82,
   "id": "acacabe3",
   "metadata": {
    "id": "acacabe3",
    "tags": []
   },
   "outputs": [],
   "source": [
    "acc_xgb = []\n",
    "precision_xgb = []\n",
    "recall_xgb = []\n",
    "f1_xgb = []\n",
    "\n",
    "for i in range(100):\n",
    "    df_sample = df_nonF.sample(n=492)\n",
    "    df_input = pd.concat([df_sample, df_F])\n",
    "    X = df_input.drop(['Class'], axis=1)\n",
    "    y = df_input['Class']\n",
    "    x_train, x_test, y_train, y_test = train_test_split(X, y, test_size = 0.3)\n",
    "    xgb = XGBClassifier(objective='reg:squarederror', n_estimators=20, seed=123)\n",
    "    xgb.fit(x_train, y_train)\n",
    "    y_pred = xgb.predict(x_test)\n",
    "    acc_xgb.append(accuracy_score(y_test, y_pred))\n",
    "    precision_xgb.append(precision_score(y_test, y_pred))\n",
    "    recall_xgb.append(recall_score(y_test, y_pred))\n",
    "    f1_xgb.append(f1_score(y_test, y_pred))"
   ]
  },
  {
   "cell_type": "code",
   "execution_count": 83,
   "id": "431fcb4a",
   "metadata": {},
   "outputs": [],
   "source": [
    "acc_xgb1 = []\n",
    "precision_xgb1 = []\n",
    "recall_xgb1 = []\n",
    "f1_xgb1 = []\n",
    "\n",
    "for i in range(100):\n",
    "    df_sample = df_nonF.sample(n=250)\n",
    "    df_input = pd.concat([df_sample, df_F])\n",
    "    X = df_input.drop(['Class'], axis=1)\n",
    "    y = df_input['Class']\n",
    "    x_train, x_test, y_train, y_test = train_test_split(X, y, test_size = 0.3)\n",
    "    rf = RandomForestClassifier(random_state=42)\n",
    "    rf.fit(x_train, y_train)\n",
    "    y_pred = rf.predict(x_test)\n",
    "    acc_xgb1.append(accuracy_score(y_test, y_pred))\n",
    "    precision_xgb1.append(precision_score(y_test, y_pred))\n",
    "    recall_xgb1.append(recall_score(y_test, y_pred))\n",
    "    f1_xgb1.append(f1_score(y_test, y_pred))"
   ]
  },
  {
   "cell_type": "code",
   "execution_count": 96,
   "id": "0436e737",
   "metadata": {},
   "outputs": [],
   "source": [
    "acc_xgb2 = []\n",
    "precision_xgb2 = []\n",
    "recall_xgb2 = []\n",
    "f1_xgb2 = []\n",
    "\n",
    "for i in range(100):\n",
    "    df_sample = df_nonF.sample(n=1000)\n",
    "    df_input = pd.concat([df_sample, df_F])\n",
    "    X = df_input.drop(['Class'], axis=1)\n",
    "    y = df_input['Class']\n",
    "    x_train, x_test, y_train, y_test = train_test_split(X, y, test_size = 0.3)\n",
    "    rf = RandomForestClassifier(random_state=42)\n",
    "    rf.fit(x_train, y_train)\n",
    "    y_pred = rf.predict(x_test)\n",
    "    acc_xgb2.append(accuracy_score(y_test, y_pred))\n",
    "    precision_xgb2.append(precision_score(y_test, y_pred))\n",
    "    recall_xgb2.append(recall_score(y_test, y_pred))\n",
    "    f1_xgb2.append(f1_score(y_test, y_pred))"
   ]
  },
  {
   "cell_type": "markdown",
   "id": "7a338bd8",
   "metadata": {
    "id": "7a338bd8"
   },
   "source": [
    "Decision Tree"
   ]
  },
  {
   "cell_type": "code",
   "execution_count": 85,
   "id": "30689412",
   "metadata": {
    "id": "30689412",
    "tags": []
   },
   "outputs": [],
   "source": [
    "acc_dt = []\n",
    "precision_dt = []\n",
    "recall_dt = []\n",
    "f1_dt = []\n",
    "\n",
    "for i in range(100):\n",
    "    df_sample = df_nonF.sample(n=492)\n",
    "    df_input = pd.concat([df_sample, df_F])\n",
    "    X = df_input.drop(['Class'], axis=1)\n",
    "    y = df_input['Class']\n",
    "    x_train, x_test, y_train, y_test = train_test_split(X, y, test_size = 0.3)\n",
    "    dt = DecisionTreeClassifier(max_depth=8, min_samples_leaf=0.13, random_state=3)\n",
    "    dt.fit(x_train, y_train)\n",
    "    y_pred = dt.predict(x_test)\n",
    "    acc_dt.append(accuracy_score(y_test, y_pred))\n",
    "    precision_dt.append(precision_score(y_test, y_pred))\n",
    "    recall_dt.append(recall_score(y_test, y_pred))\n",
    "    f1_dt.append(f1_score(y_test, y_pred))\n",
    "    "
   ]
  },
  {
   "cell_type": "code",
   "execution_count": 86,
   "id": "71b3f033",
   "metadata": {},
   "outputs": [],
   "source": [
    "acc_dt1 = []\n",
    "precision_dt1 = []\n",
    "recall_dt1 = []\n",
    "f1_dt1 = []\n",
    "\n",
    "for i in range(100):\n",
    "    df_sample = df_nonF.sample(n=250)\n",
    "    df_input = pd.concat([df_sample, df_F])\n",
    "    X = df_input.drop(['Class'], axis=1)\n",
    "    y = df_input['Class']\n",
    "    x_train, x_test, y_train, y_test = train_test_split(X, y, test_size = 0.3)\n",
    "    rf = RandomForestClassifier(random_state=42)\n",
    "    rf.fit(x_train, y_train)\n",
    "    y_pred = rf.predict(x_test)\n",
    "    acc_dt1.append(accuracy_score(y_test, y_pred))\n",
    "    precision_dt1.append(precision_score(y_test, y_pred))\n",
    "    recall_dt1.append(recall_score(y_test, y_pred))\n",
    "    f1_dt1.append(f1_score(y_test, y_pred))"
   ]
  },
  {
   "cell_type": "code",
   "execution_count": 87,
   "id": "09fb09e8",
   "metadata": {},
   "outputs": [],
   "source": [
    "acc_dt2 = []\n",
    "precision_dt2 = []\n",
    "recall_dt2 = []\n",
    "f1_dt2 = []\n",
    "\n",
    "for i in range(100):\n",
    "    df_sample = df_nonF.sample(n=1000)\n",
    "    df_input = pd.concat([df_sample, df_F])\n",
    "    X = df_input.drop(['Class'], axis=1)\n",
    "    y = df_input['Class']\n",
    "    x_train, x_test, y_train, y_test = train_test_split(X, y, test_size = 0.3)\n",
    "    rf = RandomForestClassifier(random_state=42)\n",
    "    rf.fit(x_train, y_train)\n",
    "    y_pred = rf.predict(x_test)\n",
    "    acc_dt2.append(accuracy_score(y_test, y_pred))\n",
    "    precision_dt2.append(precision_score(y_test, y_pred))\n",
    "    recall_dt2.append(recall_score(y_test, y_pred))\n",
    "    f1_dt2.append(f1_score(y_test, y_pred))"
   ]
  },
  {
   "cell_type": "markdown",
   "id": "d108fd46",
   "metadata": {},
   "source": [
    "Neural Network"
   ]
  },
  {
   "cell_type": "code",
   "execution_count": 88,
   "id": "f740a9f0",
   "metadata": {},
   "outputs": [],
   "source": [
    "from sklearn.neural_network import MLPClassifier"
   ]
  },
  {
   "cell_type": "code",
   "execution_count": 89,
   "id": "2b36e0d7",
   "metadata": {},
   "outputs": [],
   "source": [
    "acc_nn = []\n",
    "precision_nn = []\n",
    "recall_nn = []\n",
    "f1_nn = []\n",
    "\n",
    "for i in range(100):\n",
    "    df_sample = df_nonF.sample(n=492)\n",
    "    df_input = pd.concat([df_sample, df_F])\n",
    "    X = df_input.drop(['Class'], axis=1)\n",
    "    y = df_input['Class']\n",
    "    x_train, x_test, y_train, y_test = train_test_split(X, y, test_size = 0.3)\n",
    "    nn = MLPClassifier(hidden_layer_sizes=(100,100,100),max_iter=1000,activation='relu',solver='adam',random_state=1)\n",
    "    nn.fit(x_train, y_train)\n",
    "    y_pred = dt.predict(x_test)\n",
    "    acc_nn.append(accuracy_score(y_test, y_pred))\n",
    "    precision_nn.append(precision_score(y_test, y_pred))\n",
    "    recall_nn.append(recall_score(y_test, y_pred))\n",
    "    f1_nn.append(f1_score(y_test, y_pred))"
   ]
  },
  {
   "cell_type": "code",
   "execution_count": 90,
   "id": "29e754e8",
   "metadata": {},
   "outputs": [],
   "source": [
    "acc_nn1 = []\n",
    "precision_nn1 = []\n",
    "recall_nn1 = []\n",
    "f1_nn1 = []\n",
    "\n",
    "for i in range(100):\n",
    "    df_sample = df_nonF.sample(n=250)\n",
    "    df_input = pd.concat([df_sample, df_F])\n",
    "    X = df_input.drop(['Class'], axis=1)\n",
    "    y = df_input['Class']\n",
    "    x_train, x_test, y_train, y_test = train_test_split(X, y, test_size = 0.3)\n",
    "    rf = RandomForestClassifier(random_state=42)\n",
    "    rf.fit(x_train, y_train)\n",
    "    y_pred = rf.predict(x_test)\n",
    "    acc_nn1.append(accuracy_score(y_test, y_pred))\n",
    "    precision_nn1.append(precision_score(y_test, y_pred))\n",
    "    recall_nn1.append(recall_score(y_test, y_pred))\n",
    "    f1_nn1.append(f1_score(y_test, y_pred))"
   ]
  },
  {
   "cell_type": "code",
   "execution_count": 91,
   "id": "98eea105",
   "metadata": {},
   "outputs": [],
   "source": [
    "acc_nn2 = []\n",
    "precision_nn2 = []\n",
    "recall_nn2 = []\n",
    "f1_nn2 = []\n",
    "\n",
    "for i in range(100):\n",
    "    df_sample = df_nonF.sample(n=250)\n",
    "    df_input = pd.concat([df_sample, df_F])\n",
    "    X = df_input.drop(['Class'], axis=1)\n",
    "    y = df_input['Class']\n",
    "    x_train, x_test, y_train, y_test = train_test_split(X, y, test_size = 0.3)\n",
    "    rf = RandomForestClassifier(random_state=42)\n",
    "    rf.fit(x_train, y_train)\n",
    "    y_pred = rf.predict(x_test)\n",
    "    acc_nn2.append(accuracy_score(y_test, y_pred))\n",
    "    precision_nn2.append(precision_score(y_test, y_pred))\n",
    "    recall_nn2.append(recall_score(y_test, y_pred))\n",
    "    f1_nn2.append(f1_score(y_test, y_pred))"
   ]
  },
  {
   "cell_type": "code",
   "execution_count": 98,
   "id": "65f23297",
   "metadata": {
    "id": "65f23297",
    "outputId": "8ca32a4b-097b-455c-d235-b63552e44d2d",
    "tags": []
   },
   "outputs": [
    {
     "data": {
      "text/html": [
       "<div>\n",
       "<style scoped>\n",
       "    .dataframe tbody tr th:only-of-type {\n",
       "        vertical-align: middle;\n",
       "    }\n",
       "\n",
       "    .dataframe tbody tr th {\n",
       "        vertical-align: top;\n",
       "    }\n",
       "\n",
       "    .dataframe thead th {\n",
       "        text-align: right;\n",
       "    }\n",
       "</style>\n",
       "<table border=\"1\" class=\"dataframe\">\n",
       "  <thead>\n",
       "    <tr style=\"text-align: right;\">\n",
       "      <th></th>\n",
       "      <th>Logistic Regression</th>\n",
       "      <th>Random Forest</th>\n",
       "      <th>XGBOOST</th>\n",
       "      <th>Decision Tree</th>\n",
       "      <th>Neural Network</th>\n",
       "    </tr>\n",
       "  </thead>\n",
       "  <tbody>\n",
       "    <tr>\n",
       "      <th>0</th>\n",
       "      <td>0.952703</td>\n",
       "      <td>0.935811</td>\n",
       "      <td>0.949324</td>\n",
       "      <td>0.925676</td>\n",
       "      <td>0.929054</td>\n",
       "    </tr>\n",
       "    <tr>\n",
       "      <th>1</th>\n",
       "      <td>0.945946</td>\n",
       "      <td>0.949324</td>\n",
       "      <td>0.929054</td>\n",
       "      <td>0.929054</td>\n",
       "      <td>0.942568</td>\n",
       "    </tr>\n",
       "    <tr>\n",
       "      <th>2</th>\n",
       "      <td>0.939189</td>\n",
       "      <td>0.935811</td>\n",
       "      <td>0.939189</td>\n",
       "      <td>0.915541</td>\n",
       "      <td>0.908784</td>\n",
       "    </tr>\n",
       "    <tr>\n",
       "      <th>3</th>\n",
       "      <td>0.922297</td>\n",
       "      <td>0.925676</td>\n",
       "      <td>0.891892</td>\n",
       "      <td>0.908784</td>\n",
       "      <td>0.915541</td>\n",
       "    </tr>\n",
       "    <tr>\n",
       "      <th>4</th>\n",
       "      <td>0.945946</td>\n",
       "      <td>0.942568</td>\n",
       "      <td>0.939189</td>\n",
       "      <td>0.925676</td>\n",
       "      <td>0.905405</td>\n",
       "    </tr>\n",
       "    <tr>\n",
       "      <th>...</th>\n",
       "      <td>...</td>\n",
       "      <td>...</td>\n",
       "      <td>...</td>\n",
       "      <td>...</td>\n",
       "      <td>...</td>\n",
       "    </tr>\n",
       "    <tr>\n",
       "      <th>95</th>\n",
       "      <td>0.942568</td>\n",
       "      <td>0.939189</td>\n",
       "      <td>0.932432</td>\n",
       "      <td>0.925676</td>\n",
       "      <td>0.949324</td>\n",
       "    </tr>\n",
       "    <tr>\n",
       "      <th>96</th>\n",
       "      <td>0.929054</td>\n",
       "      <td>0.939189</td>\n",
       "      <td>0.932432</td>\n",
       "      <td>0.929054</td>\n",
       "      <td>0.912162</td>\n",
       "    </tr>\n",
       "    <tr>\n",
       "      <th>97</th>\n",
       "      <td>0.939189</td>\n",
       "      <td>0.918919</td>\n",
       "      <td>0.918919</td>\n",
       "      <td>0.918919</td>\n",
       "      <td>0.932432</td>\n",
       "    </tr>\n",
       "    <tr>\n",
       "      <th>98</th>\n",
       "      <td>0.939189</td>\n",
       "      <td>0.925676</td>\n",
       "      <td>0.929054</td>\n",
       "      <td>0.908784</td>\n",
       "      <td>0.908784</td>\n",
       "    </tr>\n",
       "    <tr>\n",
       "      <th>99</th>\n",
       "      <td>0.935811</td>\n",
       "      <td>0.932432</td>\n",
       "      <td>0.912162</td>\n",
       "      <td>0.932432</td>\n",
       "      <td>0.918919</td>\n",
       "    </tr>\n",
       "  </tbody>\n",
       "</table>\n",
       "<p>100 rows × 5 columns</p>\n",
       "</div>"
      ],
      "text/plain": [
       "    Logistic Regression  Random Forest   XGBOOST  Decision Tree  \\\n",
       "0              0.952703       0.935811  0.949324       0.925676   \n",
       "1              0.945946       0.949324  0.929054       0.929054   \n",
       "2              0.939189       0.935811  0.939189       0.915541   \n",
       "3              0.922297       0.925676  0.891892       0.908784   \n",
       "4              0.945946       0.942568  0.939189       0.925676   \n",
       "..                  ...            ...       ...            ...   \n",
       "95             0.942568       0.939189  0.932432       0.925676   \n",
       "96             0.929054       0.939189  0.932432       0.929054   \n",
       "97             0.939189       0.918919  0.918919       0.918919   \n",
       "98             0.939189       0.925676  0.929054       0.908784   \n",
       "99             0.935811       0.932432  0.912162       0.932432   \n",
       "\n",
       "    Neural Network  \n",
       "0         0.929054  \n",
       "1         0.942568  \n",
       "2         0.908784  \n",
       "3         0.915541  \n",
       "4         0.905405  \n",
       "..             ...  \n",
       "95        0.949324  \n",
       "96        0.912162  \n",
       "97        0.932432  \n",
       "98        0.908784  \n",
       "99        0.918919  \n",
       "\n",
       "[100 rows x 5 columns]"
      ]
     },
     "execution_count": 98,
     "metadata": {},
     "output_type": "execute_result"
    }
   ],
   "source": [
    "acc = pd.DataFrame(acc_lgr, columns=['Logistic Regression'])\n",
    "acc['Random Forest'] = acc_rf\n",
    "acc['XGBOOST'] = acc_xgb\n",
    "acc['Decision Tree'] = acc_dt\n",
    "acc['Neural Network'] = acc_nn\n",
    "acc"
   ]
  },
  {
   "cell_type": "code",
   "execution_count": 99,
   "id": "4c1b05eb",
   "metadata": {},
   "outputs": [
    {
     "data": {
      "text/html": [
       "<div>\n",
       "<style scoped>\n",
       "    .dataframe tbody tr th:only-of-type {\n",
       "        vertical-align: middle;\n",
       "    }\n",
       "\n",
       "    .dataframe tbody tr th {\n",
       "        vertical-align: top;\n",
       "    }\n",
       "\n",
       "    .dataframe thead th {\n",
       "        text-align: right;\n",
       "    }\n",
       "</style>\n",
       "<table border=\"1\" class=\"dataframe\">\n",
       "  <thead>\n",
       "    <tr style=\"text-align: right;\">\n",
       "      <th></th>\n",
       "      <th>Logistic Regression</th>\n",
       "      <th>Random Forest</th>\n",
       "      <th>XGBOOST</th>\n",
       "      <th>Decision Tree</th>\n",
       "      <th>Neural Network</th>\n",
       "    </tr>\n",
       "  </thead>\n",
       "  <tbody>\n",
       "    <tr>\n",
       "      <th>0</th>\n",
       "      <td>0.923767</td>\n",
       "      <td>0.914798</td>\n",
       "      <td>0.919283</td>\n",
       "      <td>0.959641</td>\n",
       "      <td>0.946188</td>\n",
       "    </tr>\n",
       "    <tr>\n",
       "      <th>1</th>\n",
       "      <td>0.896861</td>\n",
       "      <td>0.914798</td>\n",
       "      <td>0.923767</td>\n",
       "      <td>0.946188</td>\n",
       "      <td>0.932735</td>\n",
       "    </tr>\n",
       "    <tr>\n",
       "      <th>2</th>\n",
       "      <td>0.919283</td>\n",
       "      <td>0.905830</td>\n",
       "      <td>0.914798</td>\n",
       "      <td>0.932735</td>\n",
       "      <td>0.928251</td>\n",
       "    </tr>\n",
       "    <tr>\n",
       "      <th>3</th>\n",
       "      <td>0.919283</td>\n",
       "      <td>0.937220</td>\n",
       "      <td>0.919283</td>\n",
       "      <td>0.932735</td>\n",
       "      <td>0.919283</td>\n",
       "    </tr>\n",
       "    <tr>\n",
       "      <th>4</th>\n",
       "      <td>0.928251</td>\n",
       "      <td>0.937220</td>\n",
       "      <td>0.937220</td>\n",
       "      <td>0.941704</td>\n",
       "      <td>0.910314</td>\n",
       "    </tr>\n",
       "    <tr>\n",
       "      <th>...</th>\n",
       "      <td>...</td>\n",
       "      <td>...</td>\n",
       "      <td>...</td>\n",
       "      <td>...</td>\n",
       "      <td>...</td>\n",
       "    </tr>\n",
       "    <tr>\n",
       "      <th>95</th>\n",
       "      <td>0.905830</td>\n",
       "      <td>0.937220</td>\n",
       "      <td>0.937220</td>\n",
       "      <td>0.937220</td>\n",
       "      <td>0.937220</td>\n",
       "    </tr>\n",
       "    <tr>\n",
       "      <th>96</th>\n",
       "      <td>0.950673</td>\n",
       "      <td>0.919283</td>\n",
       "      <td>0.937220</td>\n",
       "      <td>0.919283</td>\n",
       "      <td>0.928251</td>\n",
       "    </tr>\n",
       "    <tr>\n",
       "      <th>97</th>\n",
       "      <td>0.946188</td>\n",
       "      <td>0.950673</td>\n",
       "      <td>0.932735</td>\n",
       "      <td>0.937220</td>\n",
       "      <td>0.946188</td>\n",
       "    </tr>\n",
       "    <tr>\n",
       "      <th>98</th>\n",
       "      <td>0.923767</td>\n",
       "      <td>0.946188</td>\n",
       "      <td>0.914798</td>\n",
       "      <td>0.959641</td>\n",
       "      <td>0.950673</td>\n",
       "    </tr>\n",
       "    <tr>\n",
       "      <th>99</th>\n",
       "      <td>0.937220</td>\n",
       "      <td>0.937220</td>\n",
       "      <td>0.919283</td>\n",
       "      <td>0.950673</td>\n",
       "      <td>0.923767</td>\n",
       "    </tr>\n",
       "  </tbody>\n",
       "</table>\n",
       "<p>100 rows × 5 columns</p>\n",
       "</div>"
      ],
      "text/plain": [
       "    Logistic Regression  Random Forest   XGBOOST  Decision Tree  \\\n",
       "0              0.923767       0.914798  0.919283       0.959641   \n",
       "1              0.896861       0.914798  0.923767       0.946188   \n",
       "2              0.919283       0.905830  0.914798       0.932735   \n",
       "3              0.919283       0.937220  0.919283       0.932735   \n",
       "4              0.928251       0.937220  0.937220       0.941704   \n",
       "..                  ...            ...       ...            ...   \n",
       "95             0.905830       0.937220  0.937220       0.937220   \n",
       "96             0.950673       0.919283  0.937220       0.919283   \n",
       "97             0.946188       0.950673  0.932735       0.937220   \n",
       "98             0.923767       0.946188  0.914798       0.959641   \n",
       "99             0.937220       0.937220  0.919283       0.950673   \n",
       "\n",
       "    Neural Network  \n",
       "0         0.946188  \n",
       "1         0.932735  \n",
       "2         0.928251  \n",
       "3         0.919283  \n",
       "4         0.910314  \n",
       "..             ...  \n",
       "95        0.937220  \n",
       "96        0.928251  \n",
       "97        0.946188  \n",
       "98        0.950673  \n",
       "99        0.923767  \n",
       "\n",
       "[100 rows x 5 columns]"
      ]
     },
     "execution_count": 99,
     "metadata": {},
     "output_type": "execute_result"
    }
   ],
   "source": [
    "acc1 = pd.DataFrame(acc_lgr1, columns=['Logistic Regression'])\n",
    "acc1['Random Forest'] = acc_rf1\n",
    "acc1['XGBOOST'] = acc_xgb1\n",
    "acc1['Decision Tree'] = acc_dt1\n",
    "acc1['Neural Network'] = acc_nn1\n",
    "acc1"
   ]
  },
  {
   "cell_type": "code",
   "execution_count": 100,
   "id": "27eb745c",
   "metadata": {},
   "outputs": [
    {
     "data": {
      "text/html": [
       "<div>\n",
       "<style scoped>\n",
       "    .dataframe tbody tr th:only-of-type {\n",
       "        vertical-align: middle;\n",
       "    }\n",
       "\n",
       "    .dataframe tbody tr th {\n",
       "        vertical-align: top;\n",
       "    }\n",
       "\n",
       "    .dataframe thead th {\n",
       "        text-align: right;\n",
       "    }\n",
       "</style>\n",
       "<table border=\"1\" class=\"dataframe\">\n",
       "  <thead>\n",
       "    <tr style=\"text-align: right;\">\n",
       "      <th></th>\n",
       "      <th>Logistic Regression</th>\n",
       "      <th>Random Forest</th>\n",
       "      <th>XGBOOST</th>\n",
       "      <th>Decision Tree</th>\n",
       "      <th>Neural Network</th>\n",
       "    </tr>\n",
       "  </thead>\n",
       "  <tbody>\n",
       "    <tr>\n",
       "      <th>0</th>\n",
       "      <td>0.968750</td>\n",
       "      <td>0.946429</td>\n",
       "      <td>0.955357</td>\n",
       "      <td>0.973214</td>\n",
       "      <td>0.914798</td>\n",
       "    </tr>\n",
       "    <tr>\n",
       "      <th>1</th>\n",
       "      <td>0.966518</td>\n",
       "      <td>0.948661</td>\n",
       "      <td>0.957589</td>\n",
       "      <td>0.953125</td>\n",
       "      <td>0.941704</td>\n",
       "    </tr>\n",
       "    <tr>\n",
       "      <th>2</th>\n",
       "      <td>0.939732</td>\n",
       "      <td>0.959821</td>\n",
       "      <td>0.955357</td>\n",
       "      <td>0.948661</td>\n",
       "      <td>0.941704</td>\n",
       "    </tr>\n",
       "    <tr>\n",
       "      <th>3</th>\n",
       "      <td>0.962054</td>\n",
       "      <td>0.955357</td>\n",
       "      <td>0.948661</td>\n",
       "      <td>0.957589</td>\n",
       "      <td>0.946188</td>\n",
       "    </tr>\n",
       "    <tr>\n",
       "      <th>4</th>\n",
       "      <td>0.957589</td>\n",
       "      <td>0.964286</td>\n",
       "      <td>0.955357</td>\n",
       "      <td>0.937500</td>\n",
       "      <td>0.910314</td>\n",
       "    </tr>\n",
       "    <tr>\n",
       "      <th>...</th>\n",
       "      <td>...</td>\n",
       "      <td>...</td>\n",
       "      <td>...</td>\n",
       "      <td>...</td>\n",
       "      <td>...</td>\n",
       "    </tr>\n",
       "    <tr>\n",
       "      <th>95</th>\n",
       "      <td>0.944196</td>\n",
       "      <td>0.959821</td>\n",
       "      <td>0.939732</td>\n",
       "      <td>0.955357</td>\n",
       "      <td>0.910314</td>\n",
       "    </tr>\n",
       "    <tr>\n",
       "      <th>96</th>\n",
       "      <td>0.957589</td>\n",
       "      <td>0.957589</td>\n",
       "      <td>0.959821</td>\n",
       "      <td>0.957589</td>\n",
       "      <td>0.941704</td>\n",
       "    </tr>\n",
       "    <tr>\n",
       "      <th>97</th>\n",
       "      <td>0.962054</td>\n",
       "      <td>0.950893</td>\n",
       "      <td>0.959821</td>\n",
       "      <td>0.962054</td>\n",
       "      <td>0.910314</td>\n",
       "    </tr>\n",
       "    <tr>\n",
       "      <th>98</th>\n",
       "      <td>0.946429</td>\n",
       "      <td>0.950893</td>\n",
       "      <td>0.953125</td>\n",
       "      <td>0.970982</td>\n",
       "      <td>0.941704</td>\n",
       "    </tr>\n",
       "    <tr>\n",
       "      <th>99</th>\n",
       "      <td>0.957589</td>\n",
       "      <td>0.955357</td>\n",
       "      <td>0.944196</td>\n",
       "      <td>0.950893</td>\n",
       "      <td>0.923767</td>\n",
       "    </tr>\n",
       "  </tbody>\n",
       "</table>\n",
       "<p>100 rows × 5 columns</p>\n",
       "</div>"
      ],
      "text/plain": [
       "    Logistic Regression  Random Forest   XGBOOST  Decision Tree  \\\n",
       "0              0.968750       0.946429  0.955357       0.973214   \n",
       "1              0.966518       0.948661  0.957589       0.953125   \n",
       "2              0.939732       0.959821  0.955357       0.948661   \n",
       "3              0.962054       0.955357  0.948661       0.957589   \n",
       "4              0.957589       0.964286  0.955357       0.937500   \n",
       "..                  ...            ...       ...            ...   \n",
       "95             0.944196       0.959821  0.939732       0.955357   \n",
       "96             0.957589       0.957589  0.959821       0.957589   \n",
       "97             0.962054       0.950893  0.959821       0.962054   \n",
       "98             0.946429       0.950893  0.953125       0.970982   \n",
       "99             0.957589       0.955357  0.944196       0.950893   \n",
       "\n",
       "    Neural Network  \n",
       "0         0.914798  \n",
       "1         0.941704  \n",
       "2         0.941704  \n",
       "3         0.946188  \n",
       "4         0.910314  \n",
       "..             ...  \n",
       "95        0.910314  \n",
       "96        0.941704  \n",
       "97        0.910314  \n",
       "98        0.941704  \n",
       "99        0.923767  \n",
       "\n",
       "[100 rows x 5 columns]"
      ]
     },
     "execution_count": 100,
     "metadata": {},
     "output_type": "execute_result"
    }
   ],
   "source": [
    "acc2 = pd.DataFrame(acc_lgr2, columns=['Logistic Regression'])\n",
    "acc2['Random Forest'] = acc_rf2\n",
    "acc2['XGBOOST'] = acc_xgb2\n",
    "acc2['Decision Tree'] = acc_dt2\n",
    "acc2['Neural Network'] = acc_nn2\n",
    "acc2"
   ]
  },
  {
   "cell_type": "code",
   "execution_count": 109,
   "id": "88751e31",
   "metadata": {
    "id": "88751e31",
    "outputId": "f587debf-daea-406a-c59d-69a7aaba69fb",
    "tags": []
   },
   "outputs": [],
   "source": [
    "acc_mean = acc.mean()\n",
    "acc1_mean = acc1.mean()\n",
    "acc2_mean = acc2.mean()"
   ]
  },
  {
   "cell_type": "code",
   "execution_count": 38,
   "id": "9c5d0a04",
   "metadata": {
    "id": "9c5d0a04",
    "tags": []
   },
   "outputs": [],
   "source": [
    "precision = pd.DataFrame(precision_lgr, columns=['Logistic Regression'])\n",
    "precision['Random Forest'] = precision_rf\n",
    "precision['XGBOOST'] = precision_xgb\n",
    "precision['Decision Tree'] = precision_dt\n",
    "precision['Neural Network'] = precision_nn\n",
    "precision_mean = precision.mean()"
   ]
  },
  {
   "cell_type": "code",
   "execution_count": 101,
   "id": "9de6837d",
   "metadata": {},
   "outputs": [],
   "source": [
    "precision1 = pd.DataFrame(precision_lgr1, columns=['Logistic Regression'])\n",
    "precision1['Random Forest'] = precision_rf1\n",
    "precision1['XGBOOST'] = precision_xgb1\n",
    "precision1['Decision Tree'] = precision_dt1\n",
    "precision1['Neural Network'] = precision_nn1\n",
    "precision1_mean = precision1.mean()"
   ]
  },
  {
   "cell_type": "code",
   "execution_count": 102,
   "id": "38f84573",
   "metadata": {},
   "outputs": [],
   "source": [
    "precision2 = pd.DataFrame(precision_lgr2, columns=['Logistic Regression'])\n",
    "precision2['Random Forest'] = precision_rf2\n",
    "precision2['XGBOOST'] = precision_xgb2\n",
    "precision2['Decision Tree'] = precision_dt2\n",
    "precision2['Neural Network'] = precision_nn2\n",
    "precision2_mean = precision2.mean()"
   ]
  },
  {
   "cell_type": "code",
   "execution_count": 103,
   "id": "348505d4",
   "metadata": {},
   "outputs": [],
   "source": [
    "precision_mean = precision.mean()\n",
    "precision1_mean = precision1.mean()\n",
    "precision2_mean = precision2.mean()"
   ]
  },
  {
   "cell_type": "code",
   "execution_count": 39,
   "id": "84dd3234",
   "metadata": {
    "tags": []
   },
   "outputs": [],
   "source": [
    "recall = pd.DataFrame(recall_lgr, columns=['Logistic Regression'])\n",
    "recall['Random Forest'] = recall_rf\n",
    "recall['XGBOOST'] = recall_xgb\n",
    "recall['Decision Tree'] = recall_dt\n",
    "recall['Neural Network'] = recall_nn\n",
    "recall_mean = recall.mean()"
   ]
  },
  {
   "cell_type": "code",
   "execution_count": 104,
   "id": "0a6ca8a2",
   "metadata": {},
   "outputs": [],
   "source": [
    "recall1 = pd.DataFrame(recall_lgr1, columns=['Logistic Regression'])\n",
    "recall1['Random Forest'] = recall_rf1\n",
    "recall1['XGBOOST'] = recall_xgb1\n",
    "recall1['Decision Tree'] = recall_dt1\n",
    "recall1['Neural Network'] = recall_nn1\n",
    "recall1_mean = recall1.mean()"
   ]
  },
  {
   "cell_type": "code",
   "execution_count": 105,
   "id": "96f7032f",
   "metadata": {},
   "outputs": [],
   "source": [
    "recall2 = pd.DataFrame(recall_lgr2, columns=['Logistic Regression'])\n",
    "recall2['Random Forest'] = recall_rf2\n",
    "recall2['XGBOOST'] = recall_xgb2\n",
    "recall2['Decision Tree'] = recall_dt2\n",
    "recall2['Neural Network'] = recall_nn2\n",
    "recall2_mean = recall2.mean()"
   ]
  },
  {
   "cell_type": "code",
   "execution_count": 40,
   "id": "7eb4cfeb",
   "metadata": {
    "tags": []
   },
   "outputs": [],
   "source": [
    "f1 = pd.DataFrame(f1_lgr, columns=['Logistic Regression'])\n",
    "f1['Random Forest'] = f1_rf\n",
    "f1['XGBOOST'] = f1_xgb\n",
    "f1['Decision Tree'] = f1_dt\n",
    "f1['Neural Network'] = f1_nn\n",
    "f1_mean = f1.mean()"
   ]
  },
  {
   "cell_type": "code",
   "execution_count": 106,
   "id": "f1659007",
   "metadata": {},
   "outputs": [],
   "source": [
    "f11 = pd.DataFrame(f1_lgr1, columns=['Logistic Regression'])\n",
    "f11['Random Forest'] = f1_rf1\n",
    "f11['XGBOOST'] = f1_xgb1\n",
    "f11['Decision Tree'] = f1_dt1\n",
    "f11['Neural Network'] = f1_nn1\n",
    "f11_mean = f11.mean()"
   ]
  },
  {
   "cell_type": "code",
   "execution_count": 107,
   "id": "1f44d46b",
   "metadata": {},
   "outputs": [],
   "source": [
    "f12 = pd.DataFrame(f1_lgr2, columns=['Logistic Regression'])\n",
    "f12['Random Forest'] = f1_rf2\n",
    "f12['XGBOOST'] = f1_xgb2\n",
    "f12['Decision Tree'] = f1_dt2\n",
    "f12['Neural Network'] = f1_nn2\n",
    "f12_mean = f12.mean()"
   ]
  },
  {
   "cell_type": "code",
   "execution_count": 41,
   "id": "2907cb3b-a21c-4d62-a097-33c41279f965",
   "metadata": {
    "tags": []
   },
   "outputs": [],
   "source": [
    "df_output = pd.DataFrame(acc_mean, columns=['accuracy'])\n",
    "df_output['precision'] = precision_mean\n",
    "df_output['recall'] = recall_mean\n",
    "df_output['f1'] = f1_mean"
   ]
  },
  {
   "cell_type": "code",
   "execution_count": 42,
   "id": "17153ea0-2c4c-4f7f-91d4-2a65d5ad5170",
   "metadata": {
    "tags": []
   },
   "outputs": [
    {
     "data": {
      "text/html": [
       "<div>\n",
       "<style scoped>\n",
       "    .dataframe tbody tr th:only-of-type {\n",
       "        vertical-align: middle;\n",
       "    }\n",
       "\n",
       "    .dataframe tbody tr th {\n",
       "        vertical-align: top;\n",
       "    }\n",
       "\n",
       "    .dataframe thead th {\n",
       "        text-align: right;\n",
       "    }\n",
       "</style>\n",
       "<table border=\"1\" class=\"dataframe\">\n",
       "  <thead>\n",
       "    <tr style=\"text-align: right;\">\n",
       "      <th></th>\n",
       "      <th>accuracy</th>\n",
       "      <th>precision</th>\n",
       "      <th>recall</th>\n",
       "      <th>f1</th>\n",
       "    </tr>\n",
       "  </thead>\n",
       "  <tbody>\n",
       "    <tr>\n",
       "      <th>Logistic Regression</th>\n",
       "      <td>0.937601</td>\n",
       "      <td>0.962064</td>\n",
       "      <td>0.911859</td>\n",
       "      <td>0.936071</td>\n",
       "    </tr>\n",
       "    <tr>\n",
       "      <th>Random Forest</th>\n",
       "      <td>0.937095</td>\n",
       "      <td>0.972221</td>\n",
       "      <td>0.899037</td>\n",
       "      <td>0.933930</td>\n",
       "    </tr>\n",
       "    <tr>\n",
       "      <th>XGBOOST</th>\n",
       "      <td>0.924764</td>\n",
       "      <td>0.938818</td>\n",
       "      <td>0.907956</td>\n",
       "      <td>0.922817</td>\n",
       "    </tr>\n",
       "    <tr>\n",
       "      <th>Decision Tree</th>\n",
       "      <td>0.917804</td>\n",
       "      <td>0.965918</td>\n",
       "      <td>0.867990</td>\n",
       "      <td>0.913875</td>\n",
       "    </tr>\n",
       "    <tr>\n",
       "      <th>Neural Network</th>\n",
       "      <td>0.919493</td>\n",
       "      <td>0.960431</td>\n",
       "      <td>0.875718</td>\n",
       "      <td>0.915931</td>\n",
       "    </tr>\n",
       "  </tbody>\n",
       "</table>\n",
       "</div>"
      ],
      "text/plain": [
       "                     accuracy  precision    recall        f1\n",
       "Logistic Regression  0.937601   0.962064  0.911859  0.936071\n",
       "Random Forest        0.937095   0.972221  0.899037  0.933930\n",
       "XGBOOST              0.924764   0.938818  0.907956  0.922817\n",
       "Decision Tree        0.917804   0.965918  0.867990  0.913875\n",
       "Neural Network       0.919493   0.960431  0.875718  0.915931"
      ]
     },
     "execution_count": 42,
     "metadata": {},
     "output_type": "execute_result"
    }
   ],
   "source": [
    "df_output"
   ]
  },
  {
   "cell_type": "code",
   "execution_count": 111,
   "id": "54272222",
   "metadata": {},
   "outputs": [
    {
     "data": {
      "text/html": [
       "<div>\n",
       "<style scoped>\n",
       "    .dataframe tbody tr th:only-of-type {\n",
       "        vertical-align: middle;\n",
       "    }\n",
       "\n",
       "    .dataframe tbody tr th {\n",
       "        vertical-align: top;\n",
       "    }\n",
       "\n",
       "    .dataframe thead th {\n",
       "        text-align: right;\n",
       "    }\n",
       "</style>\n",
       "<table border=\"1\" class=\"dataframe\">\n",
       "  <thead>\n",
       "    <tr style=\"text-align: right;\">\n",
       "      <th></th>\n",
       "      <th>accuracy</th>\n",
       "      <th>precision</th>\n",
       "      <th>recall</th>\n",
       "      <th>f1</th>\n",
       "    </tr>\n",
       "  </thead>\n",
       "  <tbody>\n",
       "    <tr>\n",
       "      <th>Logistic Regression</th>\n",
       "      <td>0.930269</td>\n",
       "      <td>0.968517</td>\n",
       "      <td>0.925163</td>\n",
       "      <td>0.946048</td>\n",
       "    </tr>\n",
       "    <tr>\n",
       "      <th>Random Forest</th>\n",
       "      <td>0.931480</td>\n",
       "      <td>0.969500</td>\n",
       "      <td>0.926187</td>\n",
       "      <td>0.947122</td>\n",
       "    </tr>\n",
       "    <tr>\n",
       "      <th>XGBOOST</th>\n",
       "      <td>0.929507</td>\n",
       "      <td>0.968245</td>\n",
       "      <td>0.924734</td>\n",
       "      <td>0.945681</td>\n",
       "    </tr>\n",
       "    <tr>\n",
       "      <th>Decision Tree</th>\n",
       "      <td>0.932735</td>\n",
       "      <td>0.970212</td>\n",
       "      <td>0.926731</td>\n",
       "      <td>0.947818</td>\n",
       "    </tr>\n",
       "    <tr>\n",
       "      <th>Neural Network</th>\n",
       "      <td>0.931166</td>\n",
       "      <td>0.968773</td>\n",
       "      <td>0.926345</td>\n",
       "      <td>0.946941</td>\n",
       "    </tr>\n",
       "  </tbody>\n",
       "</table>\n",
       "</div>"
      ],
      "text/plain": [
       "                     accuracy  precision    recall        f1\n",
       "Logistic Regression  0.930269   0.968517  0.925163  0.946048\n",
       "Random Forest        0.931480   0.969500  0.926187  0.947122\n",
       "XGBOOST              0.929507   0.968245  0.924734  0.945681\n",
       "Decision Tree        0.932735   0.970212  0.926731  0.947818\n",
       "Neural Network       0.931166   0.968773  0.926345  0.946941"
      ]
     },
     "execution_count": 111,
     "metadata": {},
     "output_type": "execute_result"
    }
   ],
   "source": [
    "df_output1 = pd.DataFrame(acc1_mean, columns=['accuracy'])\n",
    "df_output1['precision'] = precision1_mean\n",
    "df_output1['recall'] = recall1_mean\n",
    "df_output1['f1'] = f11_mean\n",
    "df_output1"
   ]
  },
  {
   "cell_type": "code",
   "execution_count": 112,
   "id": "4e2aa24a",
   "metadata": {},
   "outputs": [
    {
     "data": {
      "text/html": [
       "<div>\n",
       "<style scoped>\n",
       "    .dataframe tbody tr th:only-of-type {\n",
       "        vertical-align: middle;\n",
       "    }\n",
       "\n",
       "    .dataframe tbody tr th {\n",
       "        vertical-align: top;\n",
       "    }\n",
       "\n",
       "    .dataframe thead th {\n",
       "        text-align: right;\n",
       "    }\n",
       "</style>\n",
       "<table border=\"1\" class=\"dataframe\">\n",
       "  <thead>\n",
       "    <tr style=\"text-align: right;\">\n",
       "      <th></th>\n",
       "      <th>accuracy</th>\n",
       "      <th>precision</th>\n",
       "      <th>recall</th>\n",
       "      <th>f1</th>\n",
       "    </tr>\n",
       "  </thead>\n",
       "  <tbody>\n",
       "    <tr>\n",
       "      <th>Logistic Regression</th>\n",
       "      <td>0.954509</td>\n",
       "      <td>0.978263</td>\n",
       "      <td>0.882575</td>\n",
       "      <td>0.927693</td>\n",
       "    </tr>\n",
       "    <tr>\n",
       "      <th>Random Forest</th>\n",
       "      <td>0.954308</td>\n",
       "      <td>0.977512</td>\n",
       "      <td>0.882115</td>\n",
       "      <td>0.927119</td>\n",
       "    </tr>\n",
       "    <tr>\n",
       "      <th>XGBOOST</th>\n",
       "      <td>0.953125</td>\n",
       "      <td>0.979982</td>\n",
       "      <td>0.876492</td>\n",
       "      <td>0.925142</td>\n",
       "    </tr>\n",
       "    <tr>\n",
       "      <th>Decision Tree</th>\n",
       "      <td>0.954665</td>\n",
       "      <td>0.977125</td>\n",
       "      <td>0.883342</td>\n",
       "      <td>0.927575</td>\n",
       "    </tr>\n",
       "    <tr>\n",
       "      <th>Neural Network</th>\n",
       "      <td>0.930762</td>\n",
       "      <td>0.968548</td>\n",
       "      <td>0.925877</td>\n",
       "      <td>0.946482</td>\n",
       "    </tr>\n",
       "  </tbody>\n",
       "</table>\n",
       "</div>"
      ],
      "text/plain": [
       "                     accuracy  precision    recall        f1\n",
       "Logistic Regression  0.954509   0.978263  0.882575  0.927693\n",
       "Random Forest        0.954308   0.977512  0.882115  0.927119\n",
       "XGBOOST              0.953125   0.979982  0.876492  0.925142\n",
       "Decision Tree        0.954665   0.977125  0.883342  0.927575\n",
       "Neural Network       0.930762   0.968548  0.925877  0.946482"
      ]
     },
     "execution_count": 112,
     "metadata": {},
     "output_type": "execute_result"
    }
   ],
   "source": [
    "df_output2 = pd.DataFrame(acc2_mean, columns=['accuracy'])\n",
    "df_output2['precision'] = precision2_mean\n",
    "df_output2['recall'] = recall2_mean\n",
    "df_output2['f1'] = f12_mean\n",
    "df_output2"
   ]
  },
  {
   "cell_type": "code",
   "execution_count": 88,
   "id": "fb9f474a-d6bf-45d4-a136-b44cd49f4a2c",
   "metadata": {
    "tags": []
   },
   "outputs": [],
   "source": [
    "y_ttl = df['Class']\n",
    "X_ttl = df.drop(['Class'], axis=1)"
   ]
  },
  {
   "cell_type": "code",
   "execution_count": 89,
   "id": "a74bb4e5-d474-4719-a1eb-38c713657070",
   "metadata": {
    "tags": []
   },
   "outputs": [],
   "source": [
    "y_ttl = y_ttl.sample(n=10000)\n",
    "X_ttl = X_ttl.sample(n=10000)"
   ]
  },
  {
   "cell_type": "code",
   "execution_count": 90,
   "id": "d9ebe70d-bc8b-4409-b14c-78cbcc477369",
   "metadata": {
    "tags": []
   },
   "outputs": [],
   "source": [
    "acc_ttl = []\n",
    "precision_ttl = []\n",
    "recall_ttl = []\n",
    "f1_ttl = []"
   ]
  },
  {
   "cell_type": "code",
   "execution_count": 91,
   "id": "8c342b54-223a-484b-b4a5-027111c64f20",
   "metadata": {
    "tags": []
   },
   "outputs": [],
   "source": [
    "for i in range(100):\n",
    "    df_sample = df_nonF.sample(n=492)\n",
    "    df_input = pd.concat([df_sample, df_F])\n",
    "    X = df_input.drop(['Class'], axis=1)\n",
    "    y = df_input['Class']\n",
    "    x_train, x_test, y_train, y_test = train_test_split(X, y, test_size = 0.3)\n",
    "    rf = RandomForestClassifier(random_state=42)\n",
    "    rf.fit(x_train, y_train)\n",
    "    y_pred = rf.predict(x_test)\n",
    "    acc_rf.append(accuracy_score(y_test, y_pred))\n",
    "    precision_rf.append(precision_score(y_test, y_pred))\n",
    "    recall_rf.append(recall_score(y_test, y_pred))\n",
    "    f1_rf.append(f1_score(y_test, y_pred))\n",
    "    x_train, x_test, y_train, y_test = train_test_split(X_ttl, y_ttl, test_size = 0.1)\n",
    "    y_pred_ttl = rf.predict(x_train)\n",
    "    acc_ttl.append(accuracy_score(y_train, y_pred_ttl))\n",
    "    precision_ttl.append(precision_score(y_train, y_pred_ttl))\n",
    "    recall_ttl.append(recall_score(y_train, y_pred_ttl))\n",
    "    f1_ttl.append(f1_score(y_train, y_pred_ttl))"
   ]
  },
  {
   "cell_type": "code",
   "execution_count": 92,
   "id": "c5f3b50e-ec91-4136-b690-46f271dde84b",
   "metadata": {
    "tags": []
   },
   "outputs": [
    {
     "data": {
      "text/plain": [
       "[0.004405286343612335,\n",
       " 0.004347826086956522,\n",
       " 0.004032258064516129,\n",
       " 0.005128205128205128,\n",
       " 0.004975124378109453,\n",
       " 0.0,\n",
       " 0.0,\n",
       " 0.0,\n",
       " 0.006060606060606061,\n",
       " 0.00267379679144385,\n",
       " 0.0037735849056603774,\n",
       " 0.004405286343612335,\n",
       " 0.004166666666666667,\n",
       " 0.0,\n",
       " 0.004201680672268907,\n",
       " 0.004016064257028112,\n",
       " 0.0,\n",
       " 0.0,\n",
       " 0.0053475935828877,\n",
       " 0.003003003003003003,\n",
       " 0.0041841004184100415,\n",
       " 0.005813953488372093,\n",
       " 0.005847953216374269,\n",
       " 0.0049261083743842365,\n",
       " 0.004366812227074236,\n",
       " 0.005405405405405406,\n",
       " 0.0070921985815602835,\n",
       " 0.0029069767441860465,\n",
       " 0.005050505050505051,\n",
       " 0.003952569169960474,\n",
       " 0.002967359050445104,\n",
       " 0.003937007874015748,\n",
       " 0.003076923076923077,\n",
       " 0.0051813471502590676,\n",
       " 0.005847953216374269,\n",
       " 0.0036496350364963502,\n",
       " 0.0,\n",
       " 0.003401360544217687,\n",
       " 0.0,\n",
       " 0.002631578947368421,\n",
       " 0.0,\n",
       " 0.004081632653061225,\n",
       " 0.0031645569620253164,\n",
       " 0.0,\n",
       " 0.004149377593360996,\n",
       " 0.005050505050505051,\n",
       " 0.0,\n",
       " 0.0,\n",
       " 0.003076923076923077,\n",
       " 0.003703703703703704,\n",
       " 0.0026041666666666665,\n",
       " 0.004629629629629629,\n",
       " 0.00423728813559322,\n",
       " 0.0041841004184100415,\n",
       " 0.0035335689045936395,\n",
       " 0.0029498525073746312,\n",
       " 0.00392156862745098,\n",
       " 0.004291845493562232,\n",
       " 0.003861003861003861,\n",
       " 0.0038314176245210726,\n",
       " 0.0,\n",
       " 0.003745318352059925,\n",
       " 0.006711409395973154,\n",
       " 0.0044444444444444444,\n",
       " 0.0031545741324921135,\n",
       " 0.0027100271002710027,\n",
       " 0.0058823529411764705,\n",
       " 0.0031446540880503146,\n",
       " 0.005555555555555556,\n",
       " 0.002702702702702703,\n",
       " 0.004424778761061947,\n",
       " 0.004201680672268907,\n",
       " 0.0030211480362537764,\n",
       " 0.003484320557491289,\n",
       " 0.0049504950495049506,\n",
       " 0.0029940119760479044,\n",
       " 0.0036496350364963502,\n",
       " 0.0028089887640449437,\n",
       " 0.0,\n",
       " 0.0,\n",
       " 0.0048543689320388345,\n",
       " 0.004901960784313725,\n",
       " 0.005208333333333333,\n",
       " 0.0034129692832764505,\n",
       " 0.0033222591362126247,\n",
       " 0.004608294930875576,\n",
       " 0.0033222591362126247,\n",
       " 0.004098360655737705,\n",
       " 0.004901960784313725,\n",
       " 0.0029411764705882353,\n",
       " 0.0033112582781456954,\n",
       " 0.005649717514124294,\n",
       " 0.004524886877828055,\n",
       " 0.005319148936170213,\n",
       " 0.003937007874015748,\n",
       " 0.004,\n",
       " 0.004149377593360996,\n",
       " 0.0035460992907801418,\n",
       " 0.0034602076124567475,\n",
       " 0.004329004329004329]"
      ]
     },
     "execution_count": 92,
     "metadata": {},
     "output_type": "execute_result"
    }
   ],
   "source": [
    "precision_ttl"
   ]
  },
  {
   "cell_type": "code",
   "execution_count": 79,
   "id": "b57a1c4a-fe1b-4970-ae85-b8a06cd1ffad",
   "metadata": {
    "tags": []
   },
   "outputs": [
    {
     "data": {
      "text/plain": [
       "[0.9808079885957459,\n",
       " 0.9681046045378258,\n",
       " 0.9825635695877194,\n",
       " 0.9808220332436817,\n",
       " 0.9759239622760757,\n",
       " 0.978023637142476,\n",
       " 0.9753270647388047,\n",
       " 0.9786310681656988,\n",
       " 0.9799758432055504,\n",
       " 0.9855761465699459,\n",
       " 0.9860571757617466,\n",
       " 0.9746599439618547,\n",
       " 0.9769105987935648,\n",
       " 0.9813487075412737,\n",
       " 0.9822861877909875,\n",
       " 0.9775390967886912,\n",
       " 0.9826724156092217,\n",
       " 0.9790453852798044,\n",
       " 0.974645899313919,\n",
       " 0.9730167201533676,\n",
       " 0.9860466422757947,\n",
       " 0.983121844343167,\n",
       " 0.9844666193830186,\n",
       " 0.9764471254116838,\n",
       " 0.9648357127307711,\n",
       " 0.9804358054254475,\n",
       " 0.9682134505593281,\n",
       " 0.9786696909475222,\n",
       " 0.9732589903302599,\n",
       " 0.9622234082147145,\n",
       " 0.9636419176562292,\n",
       " 0.9687647029908077,\n",
       " 0.9765840607290577,\n",
       " 0.9712400721894904,\n",
       " 0.9745546091023364,\n",
       " 0.9752849307949973,\n",
       " 0.9723671551863373,\n",
       " 0.9750145713222333,\n",
       " 0.9742140263898935,\n",
       " 0.973915577621258,\n",
       " 0.9716473669796283,\n",
       " 0.9800179771493578,\n",
       " 0.973515305155088,\n",
       " 0.9682942072849589,\n",
       " 0.9653694093523311,\n",
       " 0.9776725209440812,\n",
       " 0.9772020252382323,\n",
       " 0.9730799210690786,\n",
       " 0.9724057779681607,\n",
       " 0.9824793017001047,\n",
       " 0.9695301363033082,\n",
       " 0.9750496829420728,\n",
       " 0.9788663160186232,\n",
       " 0.9734942381831844,\n",
       " 0.9743193612494119,\n",
       " 0.9750005266742976,\n",
       " 0.9833290029002199,\n",
       " 0.9708573555332402,\n",
       " 0.9669845438649467,\n",
       " 0.9648146457588674,\n",
       " 0.9731747224426451,\n",
       " 0.9713173177531372,\n",
       " 0.9749935043503297,\n",
       " 0.9687998146106472,\n",
       " 0.94941820045926,\n",
       " 0.9765735272431059,\n",
       " 0.9671706354500959,\n",
       " 0.9756079576975204,\n",
       " 0.9754113326264194,\n",
       " 0.9764155249538282,\n",
       " 0.9784239096086459,\n",
       " 0.9605836955682113,\n",
       " 0.9771142461886336,\n",
       " 0.9736136176906386,\n",
       " 0.9740841133964875,\n",
       " 0.9722934207846745,\n",
       " 0.9570163549925212,\n",
       " 0.9779955478466044,\n",
       " 0.9722337310309473,\n",
       " 0.9750215936462012,\n",
       " 0.9658609720300836,\n",
       " 0.9843683068474681,\n",
       " 0.9710996257101325,\n",
       " 0.9736908632542853,\n",
       " 0.9651166056894869,\n",
       " 0.9803831379956883,\n",
       " 0.9654958111837532,\n",
       " 0.9718826148325527,\n",
       " 0.9754218661123712,\n",
       " 0.9713383847250409,\n",
       " 0.9663946686516436,\n",
       " 0.9704957058488937,\n",
       " 0.981991250184336,\n",
       " 0.9778515902052626,\n",
       " 0.969147419647058,\n",
       " 0.9736873520923014,\n",
       " 0.9722863984607066,\n",
       " 0.9786907579194258,\n",
       " 0.9854743228724114,\n",
       " 0.9719001706424725]"
      ]
     },
     "execution_count": 79,
     "metadata": {},
     "output_type": "execute_result"
    }
   ],
   "source": [
    "acc_ttl"
   ]
  },
  {
   "cell_type": "code",
   "execution_count": 81,
   "id": "a5fae9c2-9106-43b9-b828-3fd6c584db8f",
   "metadata": {
    "tags": []
   },
   "outputs": [
    {
     "data": {
      "text/plain": [
       "[0.975609756097561,\n",
       " 0.975609756097561,\n",
       " 0.9695121951219512,\n",
       " 0.959349593495935,\n",
       " 0.9654471544715447,\n",
       " 0.9735772357723578,\n",
       " 0.967479674796748,\n",
       " 0.9654471544715447,\n",
       " 0.9715447154471545,\n",
       " 0.9532520325203252,\n",
       " 0.9654471544715447,\n",
       " 0.9796747967479674,\n",
       " 0.9613821138211383,\n",
       " 0.9552845528455285,\n",
       " 0.9573170731707317,\n",
       " 0.967479674796748,\n",
       " 0.9715447154471545,\n",
       " 0.9613821138211383,\n",
       " 0.9695121951219512,\n",
       " 0.975609756097561,\n",
       " 0.9695121951219512,\n",
       " 0.9613821138211383,\n",
       " 0.9715447154471545,\n",
       " 0.9695121951219512,\n",
       " 0.9776422764227642,\n",
       " 0.9634146341463414,\n",
       " 0.9776422764227642,\n",
       " 0.9634146341463414,\n",
       " 0.9776422764227642,\n",
       " 0.975609756097561,\n",
       " 0.9735772357723578,\n",
       " 0.975609756097561,\n",
       " 0.967479674796748,\n",
       " 0.9735772357723578,\n",
       " 0.9735772357723578,\n",
       " 0.9654471544715447,\n",
       " 0.9796747967479674,\n",
       " 0.9613821138211383,\n",
       " 0.9695121951219512,\n",
       " 0.959349593495935,\n",
       " 0.9735772357723578,\n",
       " 0.9695121951219512,\n",
       " 0.975609756097561,\n",
       " 0.9735772357723578,\n",
       " 0.975609756097561,\n",
       " 0.9715447154471545,\n",
       " 0.9654471544715447,\n",
       " 0.9735772357723578,\n",
       " 0.9735772357723578,\n",
       " 0.9471544715447154,\n",
       " 0.967479674796748,\n",
       " 0.9695121951219512,\n",
       " 0.9634146341463414,\n",
       " 0.975609756097561,\n",
       " 0.9654471544715447,\n",
       " 0.959349593495935,\n",
       " 0.9573170731707317,\n",
       " 0.9695121951219512,\n",
       " 0.9776422764227642,\n",
       " 0.9796747967479674,\n",
       " 0.983739837398374,\n",
       " 0.975609756097561,\n",
       " 0.9715447154471545,\n",
       " 0.975609756097561,\n",
       " 0.983739837398374,\n",
       " 0.9735772357723578,\n",
       " 0.9817073170731707,\n",
       " 0.9715447154471545,\n",
       " 0.9654471544715447,\n",
       " 0.9491869918699187,\n",
       " 0.9735772357723578,\n",
       " 0.9735772357723578,\n",
       " 0.959349593495935,\n",
       " 0.9613821138211383,\n",
       " 0.9817073170731707,\n",
       " 0.975609756097561,\n",
       " 0.9634146341463414,\n",
       " 0.959349593495935,\n",
       " 0.9796747967479674,\n",
       " 0.975609756097561,\n",
       " 0.9796747967479674,\n",
       " 0.9613821138211383,\n",
       " 0.9654471544715447,\n",
       " 0.975609756097561,\n",
       " 0.9735772357723578,\n",
       " 0.9715447154471545,\n",
       " 0.9817073170731707,\n",
       " 0.9776422764227642,\n",
       " 0.975609756097561,\n",
       " 0.9796747967479674,\n",
       " 0.975609756097561,\n",
       " 0.9695121951219512,\n",
       " 0.9573170731707317,\n",
       " 0.967479674796748,\n",
       " 0.967479674796748,\n",
       " 0.975609756097561,\n",
       " 0.9817073170731707,\n",
       " 0.9776422764227642,\n",
       " 0.9552845528455285,\n",
       " 0.9817073170731707]"
      ]
     },
     "execution_count": 81,
     "metadata": {},
     "output_type": "execute_result"
    }
   ],
   "source": [
    "recall_ttl"
   ]
  },
  {
   "cell_type": "code",
   "execution_count": 82,
   "id": "f4234ccd-793d-4fb3-bf7d-37e6f93d79b7",
   "metadata": {
    "tags": []
   },
   "outputs": [
    {
     "data": {
      "text/plain": [
       "[0.14939309056956115,\n",
       " 0.0955794504181601,\n",
       " 0.16114864864864867,\n",
       " 0.14736184826724943,\n",
       " 0.12168566670936339,\n",
       " 0.13274213662186504,\n",
       " 0.11931319714249905,\n",
       " 0.1350198976691302,\n",
       " 0.1435650998648446,\n",
       " 0.18588981371383273,\n",
       " 0.19305019305019305,\n",
       " 0.11783400562278448,\n",
       " 0.1257644243552247,\n",
       " 0.15035188739603328,\n",
       " 0.15734090529480543,\n",
       " 0.12954143420873587,\n",
       " 0.16228144627397728,\n",
       " 0.1368238356956899,\n",
       " 0.11669724770642201,\n",
       " 0.11104684788895314,\n",
       " 0.19358766233766234,\n",
       " 0.16443594646271512,\n",
       " 0.17769516728624532,\n",
       " 0.1245105716523101,\n",
       " 0.08763778810239592,\n",
       " 0.14539877300613496,\n",
       " 0.09605591612581128,\n",
       " 0.13498504912430587,\n",
       " 0.11214735369550011,\n",
       " 0.08191825241061523,\n",
       " 0.08468134005126846,\n",
       " 0.0974025974025974,\n",
       " 0.12491798976512268,\n",
       " 0.10471089736583233,\n",
       " 0.11675807434491164,\n",
       " 0.11891350607084741,\n",
       " 0.10912383971021056,\n",
       " 0.11734061027040438,\n",
       " 0.11496746203904556,\n",
       " 0.11274334169353874,\n",
       " 0.1060555740064209,\n",
       " 0.1435665914221219,\n",
       " 0.1129013289427261,\n",
       " 0.0959150981177413,\n",
       " 0.08869999076041762,\n",
       " 0.13069036226930963,\n",
       " 0.1276367056294505,\n",
       " 0.11107246376811594,\n",
       " 0.10865373709878642,\n",
       " 0.15737926376224248,\n",
       " 0.0988577362409138,\n",
       " 0.11836228287841191,\n",
       " 0.1360700444954787,\n",
       " 0.1128217181807498,\n",
       " 0.11495643756050337,\n",
       " 0.11706349206349208,\n",
       " 0.1655536028119508,\n",
       " 0.10309055543548735,\n",
       " 0.09281234925229136,\n",
       " 0.0877560309512972,\n",
       " 0.11245353159851303,\n",
       " 0.10515938218862965,\n",
       " 0.11834612527853429,\n",
       " 0.09750152346130407,\n",
       " 0.06296344477689605,\n",
       " 0.1255570117955439,\n",
       " 0.09364094610314075,\n",
       " 0.12096672149816526,\n",
       " 0.11945177920281654,\n",
       " 0.12207554568030324,\n",
       " 0.13487258904688162,\n",
       " 0.07862770847012474,\n",
       " 0.12650763870276066,\n",
       " 0.11180711499822717,\n",
       " 0.11573020246795256,\n",
       " 0.1084623206417354,\n",
       " 0.0718726307808946,\n",
       " 0.13091110802939954,\n",
       " 0.10865644724977458,\n",
       " 0.11890017339608619,\n",
       " 0.09020305043510805,\n",
       " 0.17525009262689886,\n",
       " 0.1034745670406274,\n",
       " 0.1135691470483852,\n",
       " 0.08794638758835951,\n",
       " 0.14611034693565642,\n",
       " 0.08950245529509869,\n",
       " 0.1072463768115942,\n",
       " 0.1206030150753769,\n",
       " 0.10562068587706802,\n",
       " 0.09115943405184693,\n",
       " 0.10195575504969542,\n",
       " 0.1551638939219239,\n",
       " 0.13112947658402208,\n",
       " 0.09775130916931925,\n",
       " 0.113555713271824,\n",
       " 0.10904165255672199,\n",
       " 0.13682264258284738,\n",
       " 0.18514870986803228,\n",
       " 0.1077043148623035]"
      ]
     },
     "execution_count": 82,
     "metadata": {},
     "output_type": "execute_result"
    }
   ],
   "source": [
    "f1_ttl"
   ]
  },
  {
   "cell_type": "code",
   "execution_count": null,
   "id": "03d92b0b-30e8-43a9-8a14-de4913fed23a",
   "metadata": {},
   "outputs": [],
   "source": []
  }
 ],
 "metadata": {
  "colab": {
   "provenance": []
  },
  "kernelspec": {
   "display_name": "Python 3 (ipykernel)",
   "language": "python",
   "name": "python3"
  },
  "language_info": {
   "codemirror_mode": {
    "name": "ipython",
    "version": 3
   },
   "file_extension": ".py",
   "mimetype": "text/x-python",
   "name": "python",
   "nbconvert_exporter": "python",
   "pygments_lexer": "ipython3",
   "version": "3.9.12"
  },
  "vscode": {
   "interpreter": {
    "hash": "6027b047e9f09fa608f3feff5fdb3dfbbdfea0e79895e23694d90732e49b43e7"
   }
  }
 },
 "nbformat": 4,
 "nbformat_minor": 5
}
